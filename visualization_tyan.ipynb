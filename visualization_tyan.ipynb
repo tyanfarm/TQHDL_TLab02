{
 "cells": [
  {
   "cell_type": "code",
   "execution_count": 4,
   "id": "ef682f45",
   "metadata": {},
   "outputs": [],
   "source": [
    "import pandas as pd\n",
    "import matplotlib.pyplot as plt\n",
    "import seaborn as sns"
   ]
  },
  {
   "cell_type": "code",
   "execution_count": 10,
   "id": "569f0c70",
   "metadata": {
    "scrolled": true
   },
   "outputs": [
    {
     "data": {
      "text/html": [
       "<div>\n",
       "<style scoped>\n",
       "    .dataframe tbody tr th:only-of-type {\n",
       "        vertical-align: middle;\n",
       "    }\n",
       "\n",
       "    .dataframe tbody tr th {\n",
       "        vertical-align: top;\n",
       "    }\n",
       "\n",
       "    .dataframe thead th {\n",
       "        text-align: right;\n",
       "    }\n",
       "</style>\n",
       "<table border=\"1\" class=\"dataframe\">\n",
       "  <thead>\n",
       "    <tr style=\"text-align: right;\">\n",
       "      <th></th>\n",
       "      <th>Report_No</th>\n",
       "      <th>Reported_Date</th>\n",
       "      <th>Reported_Time</th>\n",
       "      <th>From_Date</th>\n",
       "      <th>From_Time</th>\n",
       "      <th>Offense</th>\n",
       "      <th>IBRS</th>\n",
       "      <th>Description</th>\n",
       "      <th>Beat</th>\n",
       "      <th>Address</th>\n",
       "      <th>...</th>\n",
       "      <th>Zip Code</th>\n",
       "      <th>Rep_Dist</th>\n",
       "      <th>Area</th>\n",
       "      <th>DVFlag</th>\n",
       "      <th>Invl_No</th>\n",
       "      <th>Involvement</th>\n",
       "      <th>Race</th>\n",
       "      <th>Sex</th>\n",
       "      <th>Location 1</th>\n",
       "      <th>Firearm Used Flag</th>\n",
       "    </tr>\n",
       "  </thead>\n",
       "  <tbody>\n",
       "    <tr>\n",
       "      <th>0</th>\n",
       "      <td>160007695</td>\n",
       "      <td>02/01/2016 12:00:00 AM</td>\n",
       "      <td>1:58</td>\n",
       "      <td>02/01/2016 12:00:00 AM</td>\n",
       "      <td>1:58</td>\n",
       "      <td>2100</td>\n",
       "      <td>90D</td>\n",
       "      <td>Driving Under Influe</td>\n",
       "      <td>142.0</td>\n",
       "      <td>E 39 ST/GARFIELD AV</td>\n",
       "      <td>...</td>\n",
       "      <td>64109.0</td>\n",
       "      <td>PJ3116</td>\n",
       "      <td>CPD</td>\n",
       "      <td>U</td>\n",
       "      <td>1</td>\n",
       "      <td>ARR</td>\n",
       "      <td>B</td>\n",
       "      <td>M</td>\n",
       "      <td>E 39 ST/GARFIELD AV\\nKANSAS CITY 64109\\n</td>\n",
       "      <td>N</td>\n",
       "    </tr>\n",
       "    <tr>\n",
       "      <th>1</th>\n",
       "      <td>160006559</td>\n",
       "      <td>01/27/2016 12:00:00 AM</td>\n",
       "      <td>13:04</td>\n",
       "      <td>01/25/2016 12:00:00 AM</td>\n",
       "      <td>17:55</td>\n",
       "      <td>630</td>\n",
       "      <td>23C</td>\n",
       "      <td>Stealing Shoplifting</td>\n",
       "      <td>421.0</td>\n",
       "      <td>7100  NW 86 TE</td>\n",
       "      <td>...</td>\n",
       "      <td>64153.0</td>\n",
       "      <td>PP0317</td>\n",
       "      <td>NPD</td>\n",
       "      <td>N</td>\n",
       "      <td>1</td>\n",
       "      <td>SUS</td>\n",
       "      <td>B</td>\n",
       "      <td>F</td>\n",
       "      <td>7100 NW 86 TE\\nKANSAS CITY 64153\\n</td>\n",
       "      <td>N</td>\n",
       "    </tr>\n",
       "    <tr>\n",
       "      <th>2</th>\n",
       "      <td>160023260</td>\n",
       "      <td>04/04/2016 12:00:00 AM</td>\n",
       "      <td>6:35</td>\n",
       "      <td>04/04/2016 12:00:00 AM</td>\n",
       "      <td>6:35</td>\n",
       "      <td>802</td>\n",
       "      <td>13B</td>\n",
       "      <td>Non Agg Assault Dome</td>\n",
       "      <td>141.0</td>\n",
       "      <td>E 39 ST/TROOST AV</td>\n",
       "      <td>...</td>\n",
       "      <td>64110.0</td>\n",
       "      <td>PJ3070</td>\n",
       "      <td>CPD</td>\n",
       "      <td>Y</td>\n",
       "      <td>1</td>\n",
       "      <td>VIC</td>\n",
       "      <td>B</td>\n",
       "      <td>M</td>\n",
       "      <td>E 39 ST/TROOST AV\\nKANSAS CITY 64110\\n</td>\n",
       "      <td>N</td>\n",
       "    </tr>\n",
       "    <tr>\n",
       "      <th>3</th>\n",
       "      <td>160015795</td>\n",
       "      <td>03/05/2016 12:00:00 AM</td>\n",
       "      <td>12:58</td>\n",
       "      <td>03/05/2016 12:00:00 AM</td>\n",
       "      <td>12:50</td>\n",
       "      <td>2655</td>\n",
       "      <td>90J</td>\n",
       "      <td>Trespassing</td>\n",
       "      <td>112.0</td>\n",
       "      <td>00  W 10 ST</td>\n",
       "      <td>...</td>\n",
       "      <td>64105.0</td>\n",
       "      <td>PJ0865</td>\n",
       "      <td>CPD</td>\n",
       "      <td>U</td>\n",
       "      <td>1</td>\n",
       "      <td>VIC</td>\n",
       "      <td>W</td>\n",
       "      <td>M</td>\n",
       "      <td>00 W 10 ST\\nKANSAS CITY 64105\\n</td>\n",
       "      <td>N</td>\n",
       "    </tr>\n",
       "    <tr>\n",
       "      <th>4</th>\n",
       "      <td>160039800</td>\n",
       "      <td>06/05/2016 12:00:00 AM</td>\n",
       "      <td>0:01</td>\n",
       "      <td>06/05/2016 12:00:00 AM</td>\n",
       "      <td>0:01</td>\n",
       "      <td>840</td>\n",
       "      <td>90Z</td>\n",
       "      <td>Resisting an Officer</td>\n",
       "      <td>223.0</td>\n",
       "      <td>E 63 ST/SWOPE PK</td>\n",
       "      <td>...</td>\n",
       "      <td>64120.0</td>\n",
       "      <td>PJ4922</td>\n",
       "      <td>MPD</td>\n",
       "      <td>U</td>\n",
       "      <td>1</td>\n",
       "      <td>VIC</td>\n",
       "      <td>U</td>\n",
       "      <td>U</td>\n",
       "      <td>E 63 ST/SWOPE PK\\nKANSAS CITY 64120\\n</td>\n",
       "      <td>N</td>\n",
       "    </tr>\n",
       "    <tr>\n",
       "      <th>...</th>\n",
       "      <td>...</td>\n",
       "      <td>...</td>\n",
       "      <td>...</td>\n",
       "      <td>...</td>\n",
       "      <td>...</td>\n",
       "      <td>...</td>\n",
       "      <td>...</td>\n",
       "      <td>...</td>\n",
       "      <td>...</td>\n",
       "      <td>...</td>\n",
       "      <td>...</td>\n",
       "      <td>...</td>\n",
       "      <td>...</td>\n",
       "      <td>...</td>\n",
       "      <td>...</td>\n",
       "      <td>...</td>\n",
       "      <td>...</td>\n",
       "      <td>...</td>\n",
       "      <td>...</td>\n",
       "      <td>...</td>\n",
       "      <td>...</td>\n",
       "    </tr>\n",
       "    <tr>\n",
       "      <th>110492</th>\n",
       "      <td>160014371</td>\n",
       "      <td>02/29/2016 12:00:00 AM</td>\n",
       "      <td>2:51</td>\n",
       "      <td>02/28/2016 12:00:00 AM</td>\n",
       "      <td>18:34</td>\n",
       "      <td>799</td>\n",
       "      <td>NaN</td>\n",
       "      <td>Auto Theft Outside S</td>\n",
       "      <td>226.0</td>\n",
       "      <td>EAST 63 TRFY &amp; LEWIS RD</td>\n",
       "      <td>...</td>\n",
       "      <td>64110.0</td>\n",
       "      <td>NaN</td>\n",
       "      <td>NaN</td>\n",
       "      <td>U</td>\n",
       "      <td>1</td>\n",
       "      <td>VIC</td>\n",
       "      <td>U</td>\n",
       "      <td>U</td>\n",
       "      <td>EAST 63 TRFY &amp;amp; LEWIS RD\\nKANSAS CITY 64110...</td>\n",
       "      <td>N</td>\n",
       "    </tr>\n",
       "    <tr>\n",
       "      <th>110493</th>\n",
       "      <td>160046842</td>\n",
       "      <td>06/30/2016 12:00:00 AM</td>\n",
       "      <td>14:22</td>\n",
       "      <td>06/29/2016 12:00:00 AM</td>\n",
       "      <td>23:00</td>\n",
       "      <td>302</td>\n",
       "      <td>120</td>\n",
       "      <td>Armed Robbery</td>\n",
       "      <td>NaN</td>\n",
       "      <td>41ST &amp; GILLHAM</td>\n",
       "      <td>...</td>\n",
       "      <td>NaN</td>\n",
       "      <td>NaN</td>\n",
       "      <td>NaN</td>\n",
       "      <td>U</td>\n",
       "      <td>1</td>\n",
       "      <td>SUS</td>\n",
       "      <td>B</td>\n",
       "      <td>M</td>\n",
       "      <td>41ST &amp;amp; GILLHAM\\nKANSAS CITY\\n(39.052774, -...</td>\n",
       "      <td>Y</td>\n",
       "    </tr>\n",
       "    <tr>\n",
       "      <th>110494</th>\n",
       "      <td>160033682</td>\n",
       "      <td>05/13/2016 12:00:00 AM</td>\n",
       "      <td>7:03</td>\n",
       "      <td>05/13/2016 12:00:00 AM</td>\n",
       "      <td>6:50</td>\n",
       "      <td>1401</td>\n",
       "      <td>290</td>\n",
       "      <td>Property Damage</td>\n",
       "      <td>NaN</td>\n",
       "      <td>40 &amp; 435 HWY</td>\n",
       "      <td>...</td>\n",
       "      <td>64132.0</td>\n",
       "      <td>NaN</td>\n",
       "      <td>NaN</td>\n",
       "      <td>U</td>\n",
       "      <td>1</td>\n",
       "      <td>SUS</td>\n",
       "      <td>U</td>\n",
       "      <td>U</td>\n",
       "      <td>40 &amp;amp; 435 HWY\\nKANSAS CITY 64132\\n</td>\n",
       "      <td>N</td>\n",
       "    </tr>\n",
       "    <tr>\n",
       "      <th>110495</th>\n",
       "      <td>160006331</td>\n",
       "      <td>01/26/2016 12:00:00 AM</td>\n",
       "      <td>17:45</td>\n",
       "      <td>01/23/2016 12:00:00 AM</td>\n",
       "      <td>8:00</td>\n",
       "      <td>650</td>\n",
       "      <td>23G</td>\n",
       "      <td>Stealing Auto Parts/</td>\n",
       "      <td>NaN</td>\n",
       "      <td>1 H &amp; BLOCK WAY</td>\n",
       "      <td>...</td>\n",
       "      <td>64105.0</td>\n",
       "      <td>NaN</td>\n",
       "      <td>NaN</td>\n",
       "      <td>U</td>\n",
       "      <td>1</td>\n",
       "      <td>SUS</td>\n",
       "      <td>U</td>\n",
       "      <td>U</td>\n",
       "      <td>1 H &amp;amp; BLOCK WAY\\nKANSAS CITY 64105\\n(39.09...</td>\n",
       "      <td>N</td>\n",
       "    </tr>\n",
       "    <tr>\n",
       "      <th>110496</th>\n",
       "      <td>160050919</td>\n",
       "      <td>07/14/2016 12:00:00 AM</td>\n",
       "      <td>23:27</td>\n",
       "      <td>05/20/2016 12:00:00 AM</td>\n",
       "      <td>3:09</td>\n",
       "      <td>799</td>\n",
       "      <td>NaN</td>\n",
       "      <td>Auto Theft Outside S</td>\n",
       "      <td>NaN</td>\n",
       "      <td>RAYTOWN RD &amp; I 435 HWY</td>\n",
       "      <td>...</td>\n",
       "      <td>NaN</td>\n",
       "      <td>NaN</td>\n",
       "      <td>NaN</td>\n",
       "      <td>U</td>\n",
       "      <td>1</td>\n",
       "      <td>VIC</td>\n",
       "      <td>U</td>\n",
       "      <td>M</td>\n",
       "      <td>RAYTOWN RD &amp;amp; I 435 HWY\\nKANSAS CITY\\n(38.9...</td>\n",
       "      <td>N</td>\n",
       "    </tr>\n",
       "  </tbody>\n",
       "</table>\n",
       "<p>110497 rows × 21 columns</p>\n",
       "</div>"
      ],
      "text/plain": [
       "        Report_No           Reported_Date Reported_Time  \\\n",
       "0       160007695  02/01/2016 12:00:00 AM          1:58   \n",
       "1       160006559  01/27/2016 12:00:00 AM         13:04   \n",
       "2       160023260  04/04/2016 12:00:00 AM          6:35   \n",
       "3       160015795  03/05/2016 12:00:00 AM         12:58   \n",
       "4       160039800  06/05/2016 12:00:00 AM          0:01   \n",
       "...           ...                     ...           ...   \n",
       "110492  160014371  02/29/2016 12:00:00 AM          2:51   \n",
       "110493  160046842  06/30/2016 12:00:00 AM         14:22   \n",
       "110494  160033682  05/13/2016 12:00:00 AM          7:03   \n",
       "110495  160006331  01/26/2016 12:00:00 AM         17:45   \n",
       "110496  160050919  07/14/2016 12:00:00 AM         23:27   \n",
       "\n",
       "                     From_Date From_Time  Offense IBRS           Description  \\\n",
       "0       02/01/2016 12:00:00 AM      1:58     2100  90D  Driving Under Influe   \n",
       "1       01/25/2016 12:00:00 AM     17:55      630  23C  Stealing Shoplifting   \n",
       "2       04/04/2016 12:00:00 AM      6:35      802  13B  Non Agg Assault Dome   \n",
       "3       03/05/2016 12:00:00 AM     12:50     2655  90J           Trespassing   \n",
       "4       06/05/2016 12:00:00 AM      0:01      840  90Z  Resisting an Officer   \n",
       "...                        ...       ...      ...  ...                   ...   \n",
       "110492  02/28/2016 12:00:00 AM     18:34      799  NaN  Auto Theft Outside S   \n",
       "110493  06/29/2016 12:00:00 AM     23:00      302  120         Armed Robbery   \n",
       "110494  05/13/2016 12:00:00 AM      6:50     1401  290       Property Damage   \n",
       "110495  01/23/2016 12:00:00 AM      8:00      650  23G  Stealing Auto Parts/   \n",
       "110496  05/20/2016 12:00:00 AM      3:09      799  NaN  Auto Theft Outside S   \n",
       "\n",
       "         Beat                  Address  ... Zip Code  Rep_Dist Area DVFlag  \\\n",
       "0       142.0      E 39 ST/GARFIELD AV  ...  64109.0    PJ3116  CPD      U   \n",
       "1       421.0           7100  NW 86 TE  ...  64153.0    PP0317  NPD      N   \n",
       "2       141.0        E 39 ST/TROOST AV  ...  64110.0    PJ3070  CPD      Y   \n",
       "3       112.0              00  W 10 ST  ...  64105.0    PJ0865  CPD      U   \n",
       "4       223.0         E 63 ST/SWOPE PK  ...  64120.0    PJ4922  MPD      U   \n",
       "...       ...                      ...  ...      ...       ...  ...    ...   \n",
       "110492  226.0  EAST 63 TRFY & LEWIS RD  ...  64110.0       NaN  NaN      U   \n",
       "110493    NaN           41ST & GILLHAM  ...      NaN       NaN  NaN      U   \n",
       "110494    NaN             40 & 435 HWY  ...  64132.0       NaN  NaN      U   \n",
       "110495    NaN          1 H & BLOCK WAY  ...  64105.0       NaN  NaN      U   \n",
       "110496    NaN   RAYTOWN RD & I 435 HWY  ...      NaN       NaN  NaN      U   \n",
       "\n",
       "       Invl_No  Involvement Race Sex  \\\n",
       "0            1          ARR    B   M   \n",
       "1            1          SUS    B   F   \n",
       "2            1          VIC    B   M   \n",
       "3            1          VIC    W   M   \n",
       "4            1          VIC    U   U   \n",
       "...        ...          ...  ...  ..   \n",
       "110492       1          VIC    U   U   \n",
       "110493       1          SUS    B   M   \n",
       "110494       1          SUS    U   U   \n",
       "110495       1          SUS    U   U   \n",
       "110496       1          VIC    U   M   \n",
       "\n",
       "                                               Location 1 Firearm Used Flag  \n",
       "0                E 39 ST/GARFIELD AV\\nKANSAS CITY 64109\\n                 N  \n",
       "1                      7100 NW 86 TE\\nKANSAS CITY 64153\\n                 N  \n",
       "2                  E 39 ST/TROOST AV\\nKANSAS CITY 64110\\n                 N  \n",
       "3                         00 W 10 ST\\nKANSAS CITY 64105\\n                 N  \n",
       "4                   E 63 ST/SWOPE PK\\nKANSAS CITY 64120\\n                 N  \n",
       "...                                                   ...               ...  \n",
       "110492  EAST 63 TRFY &amp; LEWIS RD\\nKANSAS CITY 64110...                 N  \n",
       "110493  41ST &amp; GILLHAM\\nKANSAS CITY\\n(39.052774, -...                 Y  \n",
       "110494              40 &amp; 435 HWY\\nKANSAS CITY 64132\\n                 N  \n",
       "110495  1 H &amp; BLOCK WAY\\nKANSAS CITY 64105\\n(39.09...                 N  \n",
       "110496  RAYTOWN RD &amp; I 435 HWY\\nKANSAS CITY\\n(38.9...                 N  \n",
       "\n",
       "[110497 rows x 21 columns]"
      ]
     },
     "execution_count": 10,
     "metadata": {},
     "output_type": "execute_result"
    }
   ],
   "source": [
    "df = pd.read_csv('processed_data_kansas.csv')\n",
    "\n",
    "df"
   ]
  },
  {
   "cell_type": "markdown",
   "id": "5727c0f9",
   "metadata": {},
   "source": [
    "# Sự tương quan dữ liệu giữa các cột dạng số"
   ]
  },
  {
   "cell_type": "code",
   "execution_count": 6,
   "id": "12bfd84f",
   "metadata": {},
   "outputs": [
    {
     "data": {
      "image/png": "[encoded data removed]",
      "text/plain": [
       "<Figure size 1200x800 with 2 Axes>"
      ]
     },
     "metadata": {},
     "output_type": "display_data"
    }
   ],
   "source": [
    "df_heatmap = df.copy().select_dtypes(include=['number'])\n",
    "\n",
    "# Xóa các dòng có giá trị thiếu\n",
    "df_heatmap = df_heatmap.dropna()\n",
    "\n",
    "# vẽ heatmap\n",
    "# Plotting heatmap\n",
    "plt.figure(figsize=(12, 8))\n",
    "heatmap = sns.heatmap(df_heatmap.corr(), annot=True, cmap='coolwarm', linewidths=0.2)\n",
    "plt.show()"
   ]
  },
  {
   "cell_type": "markdown",
   "id": "a5b140d8",
   "metadata": {},
   "source": [
    "- Hầu hết các giá trị tương quan ngoài đường chéo đều rất gần với 0, điều này chỉ ra rằng mối quan hệ tuyến tính giữa các biến là rất yếu hoặc không có.\n",
    "- Giá trị tương quan ngoài đường chéo cao nhất là giữa \"Offense\" và \"Beat\" với giá trị -0.049, cho thấy một mối quan hệ ngược chiều rất nhẹ. Tuy nhiên, giá trị này vẫn rất gần với 0, cho thấy rằng các biến này không có mối quan hệ tuyến tính mạnh."
   ]
  },
  {
   "cell_type": "markdown",
   "id": "3ed77056",
   "metadata": {},
   "source": [
    "# Tổng quát về số lượng phạm tội"
   ]
  },
  {
   "cell_type": "code",
   "execution_count": 50,
   "id": "7ed9302d",
   "metadata": {},
   "outputs": [
    {
     "name": "stderr",
     "output_type": "stream",
     "text": [
      "C:\\Users\\PC\\AppData\\Local\\Temp\\ipykernel_20536\\2923243556.py:4: UserWarning:\n",
      "\n",
      "Could not infer format, so each element will be parsed individually, falling back to `dateutil`. To ensure parsing is consistent and as-expected, please specify a format.\n",
      "\n"
     ]
    },
    {
     "data": {
      "image/png": "[encoded data removed]",
      "text/plain": [
       "<Figure size 1200x600 with 1 Axes>"
      ]
     },
     "metadata": {},
     "output_type": "display_data"
    }
   ],
   "source": [
    "data = df.copy()\n",
    "\n",
    "# Chuyển đổi cột 'Reported_Date' thành định dạng datetime\n",
    "data['Reported_Date'] = pd.to_datetime(data['Reported_Date'])\n",
    "\n",
    "# Thiết lập cột 'Reported_Date' làm chỉ số của DataFrame\n",
    "data.set_index('Reported_Date', inplace=True)\n",
    "\n",
    "# Tính toán số lượng vụ phạm tội theo tháng\n",
    "crime_counts = data.resample('M').size()\n",
    "\n",
    "# Vẽ biểu đồ biểu diễn tỷ lệ phạm tội theo thời gian\n",
    "plt.figure(figsize=(12, 6))\n",
    "plt.plot(crime_counts, marker='o', linestyle='-')\n",
    "plt.title('Tỷ lệ phạm tội theo thời gian')\n",
    "plt.xlabel('Thời gian')\n",
    "plt.ylabel('Số vụ phạm tội')\n",
    "plt.grid(True)\n",
    "plt.show()"
   ]
  },
  {
   "cell_type": "markdown",
   "id": "e7d97ab4",
   "metadata": {},
   "source": [
    "- Từ tháng 4 đến tháng 8 tỉ lệ phạm tội tăng hơn 20%.\n",
    "- Giai đoạn tháng 11 đến tháng 12 số lượng phạm tội giảm mạnh (từ 11000 về gần 2000)."
   ]
  },
  {
   "cell_type": "markdown",
   "id": "db029d95",
   "metadata": {},
   "source": [
    "# Tần suất phạm tội ở các khung giờ trong tuần"
   ]
  },
  {
   "cell_type": "code",
   "execution_count": 54,
   "id": "b289cc56",
   "metadata": {},
   "outputs": [
    {
     "name": "stderr",
     "output_type": "stream",
     "text": [
      "C:\\Users\\PC\\AppData\\Local\\Temp\\ipykernel_20536\\2582892092.py:4: UserWarning:\n",
      "\n",
      "Could not infer format, so each element will be parsed individually, falling back to `dateutil`. To ensure parsing is consistent and as-expected, please specify a format.\n",
      "\n"
     ]
    },
    {
     "data": {
      "image/png": "[encoded data removed]",
      "text/plain": [
       "<Figure size 1200x800 with 2 Axes>"
      ]
     },
     "metadata": {},
     "output_type": "display_data"
    }
   ],
   "source": [
    "data = df.copy()\n",
    "\n",
    "# Chuyển đổi cột 'Reported_Date' thành định dạng datetime\n",
    "data['Reported_Date'] = pd.to_datetime(data['Reported_Date'])\n",
    "\n",
    "# Tạo cột ngày trong tuần\n",
    "data['Day_of_Week'] = data['Reported_Date'].dt.day_name()\n",
    "\n",
    "# Chuyển đổi cột 'Reported_Time' thành giờ trong ngày\n",
    "data['Reported_Time'] = pd.to_datetime(data['Reported_Time'], format='%H:%M').dt.hour\n",
    "\n",
    "# Lọc dữ liệu để chỉ bao gồm các ngày từ Thứ 2 đến Thứ 7\n",
    "data = data[data['Day_of_Week'].isin(['Monday', 'Tuesday', 'Wednesday', 'Thursday', 'Friday', 'Saturday'])]\n",
    "\n",
    "# Tạo bảng tần suất\n",
    "frequency_table = pd.crosstab(data['Reported_Time'], data['Day_of_Week'])\n",
    "\n",
    "# Vẽ biểu đồ heatmap\n",
    "plt.figure(figsize=(12, 8))\n",
    "sns.heatmap(frequency_table, cmap='coolwarm', annot=True, fmt='d')\n",
    "plt.title('Crime Frequency by Hour and Day of Week')\n",
    "plt.xlabel('Day of Week')\n",
    "plt.ylabel('Hour of Day')\n",
    "plt.show()"
   ]
  },
  {
   "cell_type": "markdown",
   "id": "87b132b0",
   "metadata": {},
   "source": [
    "- Thời điểm tội phạm cao điểm:\n",
    "    + Tần suất tội phạm cao nhất tập trung từ 09:00 (9 giờ sáng) đến 18:00 (6 giờ tối), đặc biệt là từ thứ Hai đến thứ Sáu.\n",
    "    + Đỉnh điểm tội phạm xuất hiện vào khoảng 13 giờ chiều thứ Hai với 1141 vụ.\n",
    "\n",
    "- Ngày trong tuần:\n",
    "    + Thứ Hai có tần suất tội phạm cao nhất trong tuần, đặc biệt là từ 10:00 (10 giờ sáng) đến 18:00 (6 giờ tối).\n",
    "    + Thứ Ba và Thứ Tư có tần suất tội phạm cao ở mức trung bình so với các ngày khác trong tuần.\n",
    "\n",
    "- Thời gian ít tội phạm:\n",
    "    + Tần suất tội phạm thấp nhất xảy ra từ 0:00 (12 giờ đêm) đến 6:00 (6 giờ sáng) trong suốt các ngày trong tuần, với mức tần suất dao động từ 154 đến 636.\n",
    "    + Sáng sớm từ 3:00 đến 6:00 thường có tần suất tội phạm thấp hơn so với các khoảng thời gian khác trong ngày.\n",
    "    \n",
    "- Biến đổi theo giờ:\n",
    "    + Tần suất tội phạm tăng dần từ buổi sáng sớm đến buổi tối, đạt đỉnh vào buổi tối và sau đó giảm dần vào đêm khuya."
   ]
  },
  {
   "cell_type": "markdown",
   "id": "70b1fe0a",
   "metadata": {},
   "source": [
    "# Sự biến đổi số lượng phạm tội ở các thành phố thuộc tiểu bang Kansas"
   ]
  },
  {
   "cell_type": "markdown",
   "id": "27e7b6e3",
   "metadata": {},
   "source": [
    "#### Top 10 thành phố có số lượng phạm tội cao nhất trong năm"
   ]
  },
  {
   "cell_type": "code",
   "execution_count": 38,
   "id": "5a1798f7",
   "metadata": {},
   "outputs": [
    {
     "name": "stderr",
     "output_type": "stream",
     "text": [
      "C:\\Users\\PC\\AppData\\Local\\Temp\\ipykernel_20536\\3505154795.py:4: UserWarning:\n",
      "\n",
      "Could not infer format, so each element will be parsed individually, falling back to `dateutil`. To ensure parsing is consistent and as-expected, please specify a format.\n",
      "\n"
     ]
    },
    {
     "data": {
      "text/plain": [
       "City\n",
       "KANSAS CITY      109917\n",
       "KCMO                182\n",
       "INDEPENDENCE        156\n",
       "GRANDVIEW            27\n",
       "RAYTOWN              26\n",
       "PARKVILLE            14\n",
       "LEAWOOD              14\n",
       "GLADSTONE            14\n",
       "N KANSAS CITY        13\n",
       "KEARNEY              11\n",
       "Name: count, dtype: int64"
      ]
     },
     "execution_count": 38,
     "metadata": {},
     "output_type": "execute_result"
    }
   ],
   "source": [
    "data = df.copy()\n",
    "\n",
    "#Chuyển đổi cột 'Reported_Date' thành định dạng datetime\n",
    "data['Reported_Date'] = pd.to_datetime(data['Reported_Date'])\n",
    "\n",
    "# Tính tổng số lượng tội phạm cho mỗi thành phố\n",
    "city_crime_counts = data['City'].value_counts().nlargest(10)\n",
    "\n",
    "city_crime_counts"
   ]
  },
  {
   "cell_type": "markdown",
   "id": "eb47c974",
   "metadata": {},
   "source": [
    "- Vì `KANSAS CITY` có số lượng khá lớn so với các thành phố còn lại nên ta sẽ biểu diễn `KANSAS CITY` trên 1 biểu đồ và 9 thành phố còn lại trên 1 biểu đồ khác."
   ]
  },
  {
   "cell_type": "markdown",
   "id": "faa2dee6",
   "metadata": {},
   "source": [
    "#### Kansas City"
   ]
  },
  {
   "cell_type": "code",
   "execution_count": 43,
   "id": "2ecd635e",
   "metadata": {},
   "outputs": [
    {
     "data": {
      "application/vnd.plotly.v1+json": {
       "config": {
        "plotlyServerURL": "https://plot.ly"
       },
       "data": [
        {
         "hovertemplate": "City=KANSAS CITY<br>Date=%{x}<br>Total Crimes=%{y}<extra></extra>",
         "legendgroup": "KANSAS CITY",
         "line": {
          "color": "#636efa",
          "dash": "solid"
         },
         "marker": {
          "symbol": "circle"
         },
         "mode": "lines",
         "name": "KANSAS CITY",
         "orientation": "v",
         "showlegend": true,
         "type": "scatter",
         "x": [
          "2016-01-01T00:00:00",
          "2016-01-02T00:00:00",
          "2016-01-03T00:00:00",
          "2016-01-04T00:00:00",
          "2016-01-05T00:00:00",
          "2016-01-06T00:00:00",
          "2016-01-07T00:00:00",
          "2016-01-08T00:00:00",
          "2016-01-09T00:00:00",
          "2016-01-10T00:00:00",
          "2016-01-11T00:00:00",
          "2016-01-12T00:00:00",
          "2016-01-13T00:00:00",
          "2016-01-14T00:00:00",
          "2016-01-15T00:00:00",
          "2016-01-16T00:00:00",
          "2016-01-17T00:00:00",
          "2016-01-18T00:00:00",
          "2016-01-19T00:00:00",
          "2016-01-20T00:00:00",
          "2016-01-21T00:00:00",
          "2016-01-22T00:00:00",
          "2016-01-23T00:00:00",
          "2016-01-24T00:00:00",
          "2016-01-25T00:00:00",
          "2016-01-26T00:00:00",
          "2016-01-27T00:00:00",
          "2016-01-28T00:00:00",
          "2016-01-29T00:00:00",
          "2016-01-30T00:00:00",
          "2016-01-31T00:00:00",
          "2016-02-01T00:00:00",
          "2016-02-02T00:00:00",
          "2016-02-03T00:00:00",
          "2016-02-04T00:00:00",
          "2016-02-05T00:00:00",
          "2016-02-06T00:00:00",
          "2016-02-07T00:00:00",
          "2016-02-08T00:00:00",
          "2016-02-09T00:00:00",
          "2016-02-10T00:00:00",
          "2016-02-11T00:00:00",
          "2016-02-12T00:00:00",
          "2016-02-13T00:00:00",
          "2016-02-14T00:00:00",
          "2016-02-15T00:00:00",
          "2016-02-16T00:00:00",
          "2016-02-17T00:00:00",
          "2016-02-18T00:00:00",
          "2016-02-19T00:00:00",
          "2016-02-20T00:00:00",
          "2016-02-21T00:00:00",
          "2016-02-22T00:00:00",
          "2016-02-23T00:00:00",
          "2016-02-24T00:00:00",
          "2016-02-25T00:00:00",
          "2016-02-26T00:00:00",
          "2016-02-27T00:00:00",
          "2016-02-28T00:00:00",
          "2016-02-29T00:00:00",
          "2016-03-01T00:00:00",
          "2016-03-02T00:00:00",
          "2016-03-03T00:00:00",
          "2016-03-04T00:00:00",
          "2016-03-05T00:00:00",
          "2016-03-06T00:00:00",
          "2016-03-07T00:00:00",
          "2016-03-08T00:00:00",
          "2016-03-09T00:00:00",
          "2016-03-10T00:00:00",
          "2016-03-11T00:00:00",
          "2016-03-12T00:00:00",
          "2016-03-13T00:00:00",
          "2016-03-14T00:00:00",
          "2016-03-15T00:00:00",
          "2016-03-16T00:00:00",
          "2016-03-17T00:00:00",
          "2016-03-18T00:00:00",
          "2016-03-19T00:00:00",
          "2016-03-20T00:00:00",
          "2016-03-21T00:00:00",
          "2016-03-22T00:00:00",
          "2016-03-23T00:00:00",
          "2016-03-24T00:00:00",
          "2016-03-25T00:00:00",
          "2016-03-26T00:00:00",
          "2016-03-27T00:00:00",
          "2016-03-28T00:00:00",
          "2016-03-29T00:00:00",
          "2016-03-30T00:00:00",
          "2016-03-31T00:00:00",
          "2016-04-01T00:00:00",
          "2016-04-02T00:00:00",
          "2016-04-03T00:00:00",
          "2016-04-04T00:00:00",
          "2016-04-05T00:00:00",
          "2016-04-06T00:00:00",
          "2016-04-07T00:00:00",
          "2016-04-08T00:00:00",
          "2016-04-09T00:00:00",
          "2016-04-10T00:00:00",
          "2016-04-11T00:00:00",
          "2016-04-12T00:00:00",
          "2016-04-13T00:00:00",
          "2016-04-14T00:00:00",
          "2016-04-15T00:00:00",
          "2016-04-16T00:00:00",
          "2016-04-17T00:00:00",
          "2016-04-18T00:00:00",
          "2016-04-19T00:00:00",
          "2016-04-20T00:00:00",
          "2016-04-21T00:00:00",
          "2016-04-22T00:00:00",
          "2016-04-23T00:00:00",
          "2016-04-24T00:00:00",
          "2016-04-25T00:00:00",
          "2016-04-26T00:00:00",
          "2016-04-27T00:00:00",
          "2016-04-28T00:00:00",
          "2016-04-29T00:00:00",
          "2016-04-30T00:00:00",
          "2016-05-01T00:00:00",
          "2016-05-02T00:00:00",
          "2016-05-03T00:00:00",
          "2016-05-04T00:00:00",
          "2016-05-05T00:00:00",
          "2016-05-06T00:00:00",
          "2016-05-07T00:00:00",
          "2016-05-08T00:00:00",
          "2016-05-09T00:00:00",
          "2016-05-10T00:00:00",
          "2016-05-11T00:00:00",
          "2016-05-12T00:00:00",
          "2016-05-13T00:00:00",
          "2016-05-14T00:00:00",
          "2016-05-15T00:00:00",
          "2016-05-16T00:00:00",
          "2016-05-17T00:00:00",
          "2016-05-18T00:00:00",
          "2016-05-19T00:00:00",
          "2016-05-20T00:00:00",
          "2016-05-21T00:00:00",
          "2016-05-22T00:00:00",
          "2016-05-23T00:00:00",
          "2016-05-24T00:00:00",
          "2016-05-25T00:00:00",
          "2016-05-26T00:00:00",
          "2016-05-27T00:00:00",
          "2016-05-28T00:00:00",
          "2016-05-29T00:00:00",
          "2016-05-30T00:00:00",
          "2016-05-31T00:00:00",
          "2016-06-01T00:00:00",
          "2016-06-02T00:00:00",
          "2016-06-03T00:00:00",
          "2016-06-04T00:00:00",
          "2016-06-05T00:00:00",
          "2016-06-06T00:00:00",
          "2016-06-07T00:00:00",
          "2016-06-08T00:00:00",
          "2016-06-09T00:00:00",
          "2016-06-10T00:00:00",
          "2016-06-11T00:00:00",
          "2016-06-12T00:00:00",
          "2016-06-13T00:00:00",
          "2016-06-14T00:00:00",
          "2016-06-15T00:00:00",
          "2016-06-16T00:00:00",
          "2016-06-17T00:00:00",
          "2016-06-18T00:00:00",
          "2016-06-19T00:00:00",
          "2016-06-20T00:00:00",
          "2016-06-21T00:00:00",
          "2016-06-22T00:00:00",
          "2016-06-23T00:00:00",
          "2016-06-24T00:00:00",
          "2016-06-25T00:00:00",
          "2016-06-26T00:00:00",
          "2016-06-27T00:00:00",
          "2016-06-28T00:00:00",
          "2016-06-29T00:00:00",
          "2016-06-30T00:00:00",
          "2016-07-01T00:00:00",
          "2016-07-02T00:00:00",
          "2016-07-03T00:00:00",
          "2016-07-04T00:00:00",
          "2016-07-05T00:00:00",
          "2016-07-06T00:00:00",
          "2016-07-07T00:00:00",
          "2016-07-08T00:00:00",
          "2016-07-09T00:00:00",
          "2016-07-10T00:00:00",
          "2016-07-11T00:00:00",
          "2016-07-12T00:00:00",
          "2016-07-13T00:00:00",
          "2016-07-14T00:00:00",
          "2016-07-15T00:00:00",
          "2016-07-16T00:00:00",
          "2016-07-17T00:00:00",
          "2016-07-18T00:00:00",
          "2016-07-19T00:00:00",
          "2016-07-20T00:00:00",
          "2016-07-21T00:00:00",
          "2016-07-22T00:00:00",
          "2016-07-23T00:00:00",
          "2016-07-24T00:00:00",
          "2016-07-25T00:00:00",
          "2016-07-26T00:00:00",
          "2016-07-27T00:00:00",
          "2016-07-28T00:00:00",
          "2016-07-29T00:00:00",
          "2016-07-30T00:00:00",
          "2016-07-31T00:00:00",
          "2016-08-01T00:00:00",
          "2016-08-02T00:00:00",
          "2016-08-03T00:00:00",
          "2016-08-04T00:00:00",
          "2016-08-05T00:00:00",
          "2016-08-06T00:00:00",
          "2016-08-07T00:00:00",
          "2016-08-08T00:00:00",
          "2016-08-09T00:00:00",
          "2016-08-10T00:00:00",
          "2016-08-11T00:00:00",
          "2016-08-12T00:00:00",
          "2016-08-13T00:00:00",
          "2016-08-14T00:00:00",
          "2016-08-15T00:00:00",
          "2016-08-16T00:00:00",
          "2016-08-17T00:00:00",
          "2016-08-18T00:00:00",
          "2016-08-19T00:00:00",
          "2016-08-20T00:00:00",
          "2016-08-21T00:00:00",
          "2016-08-22T00:00:00",
          "2016-08-23T00:00:00",
          "2016-08-24T00:00:00",
          "2016-08-25T00:00:00",
          "2016-08-26T00:00:00",
          "2016-08-27T00:00:00",
          "2016-08-28T00:00:00",
          "2016-08-29T00:00:00",
          "2016-08-30T00:00:00",
          "2016-08-31T00:00:00",
          "2016-09-01T00:00:00",
          "2016-09-02T00:00:00",
          "2016-09-03T00:00:00",
          "2016-09-04T00:00:00",
          "2016-09-05T00:00:00",
          "2016-09-06T00:00:00",
          "2016-09-07T00:00:00",
          "2016-09-08T00:00:00",
          "2016-09-09T00:00:00",
          "2016-09-10T00:00:00",
          "2016-09-11T00:00:00",
          "2016-09-12T00:00:00",
          "2016-09-13T00:00:00",
          "2016-09-14T00:00:00",
          "2016-09-15T00:00:00",
          "2016-09-16T00:00:00",
          "2016-09-17T00:00:00",
          "2016-09-18T00:00:00",
          "2016-09-19T00:00:00",
          "2016-09-20T00:00:00",
          "2016-09-21T00:00:00",
          "2016-09-22T00:00:00",
          "2016-09-23T00:00:00",
          "2016-09-24T00:00:00",
          "2016-09-25T00:00:00",
          "2016-09-26T00:00:00",
          "2016-09-27T00:00:00",
          "2016-09-28T00:00:00",
          "2016-09-29T00:00:00",
          "2016-09-30T00:00:00",
          "2016-10-01T00:00:00",
          "2016-10-02T00:00:00",
          "2016-10-03T00:00:00",
          "2016-10-04T00:00:00",
          "2016-10-05T00:00:00",
          "2016-10-06T00:00:00",
          "2016-10-07T00:00:00",
          "2016-10-08T00:00:00",
          "2016-10-09T00:00:00",
          "2016-10-10T00:00:00",
          "2016-10-11T00:00:00",
          "2016-10-12T00:00:00",
          "2016-10-13T00:00:00",
          "2016-10-14T00:00:00",
          "2016-10-15T00:00:00",
          "2016-10-16T00:00:00",
          "2016-10-17T00:00:00",
          "2016-10-18T00:00:00",
          "2016-10-19T00:00:00",
          "2016-10-20T00:00:00",
          "2016-10-21T00:00:00",
          "2016-10-22T00:00:00",
          "2016-10-23T00:00:00",
          "2016-10-24T00:00:00",
          "2016-10-25T00:00:00",
          "2016-10-26T00:00:00",
          "2016-10-27T00:00:00",
          "2016-10-28T00:00:00",
          "2016-10-29T00:00:00",
          "2016-10-30T00:00:00",
          "2016-10-31T00:00:00",
          "2016-11-01T00:00:00",
          "2016-11-02T00:00:00",
          "2016-11-03T00:00:00",
          "2016-11-04T00:00:00",
          "2016-11-05T00:00:00",
          "2016-11-06T00:00:00"
         ],
         "xaxis": "x",
         "y": [
          295,
          369,
          320,
          355,
          381,
          322,
          353,
          314,
          305,
          270,
          345,
          338,
          321,
          326,
          407,
          273,
          224,
          295,
          262,
          277,
          271,
          261,
          281,
          253,
          392,
          387,
          377,
          311,
          342,
          277,
          299,
          392,
          269,
          285,
          360,
          318,
          291,
          216,
          258,
          247,
          340,
          210,
          216,
          336,
          264,
          277,
          334,
          342,
          330,
          337,
          352,
          305,
          282,
          367,
          308,
          262,
          311,
          262,
          242,
          340,
          386,
          285,
          273,
          342,
          301,
          267,
          465,
          318,
          369,
          328,
          317,
          332,
          243,
          390,
          361,
          308,
          272,
          292,
          336,
          215,
          338,
          386,
          356,
          264,
          306,
          343,
          263,
          373,
          276,
          314,
          290,
          302,
          353,
          310,
          409,
          386,
          300,
          325,
          385,
          341,
          314,
          363,
          291,
          320,
          337,
          350,
          296,
          357,
          274,
          349,
          417,
          273,
          374,
          331,
          355,
          412,
          290,
          367,
          361,
          241,
          333,
          301,
          376,
          362,
          346,
          319,
          297,
          273,
          310,
          397,
          350,
          462,
          295,
          264,
          332,
          278,
          335,
          386,
          369,
          381,
          364,
          372,
          298,
          412,
          340,
          361,
          282,
          360,
          301,
          380,
          382,
          393,
          381,
          391,
          395,
          369,
          308,
          351,
          343,
          406,
          378,
          298,
          315,
          355,
          414,
          441,
          467,
          395,
          335,
          319,
          345,
          493,
          415,
          350,
          362,
          272,
          420,
          314,
          442,
          398,
          405,
          440,
          295,
          304,
          340,
          354,
          483,
          376,
          437,
          354,
          347,
          420,
          385,
          420,
          482,
          381,
          419,
          447,
          362,
          451,
          490,
          320,
          352,
          419,
          421,
          389,
          357,
          455,
          504,
          380,
          402,
          426,
          406,
          403,
          391,
          420,
          463,
          416,
          459,
          348,
          389,
          415,
          471,
          416,
          400,
          377,
          349,
          392,
          431,
          414,
          351,
          424,
          355,
          420,
          402,
          437,
          466,
          331,
          327,
          344,
          383,
          410,
          409,
          373,
          434,
          414,
          382,
          406,
          378,
          478,
          408,
          383,
          366,
          314,
          352,
          354,
          353,
          331,
          380,
          330,
          404,
          314,
          442,
          347,
          409,
          400,
          388,
          445,
          427,
          447,
          328,
          368,
          334,
          353,
          339,
          340,
          395,
          385,
          374,
          354,
          333,
          290,
          324,
          393,
          438,
          334,
          355,
          359,
          357,
          290,
          413,
          495,
          280,
          379,
          367,
          289,
          322,
          412,
          383,
          351,
          373,
          361,
          424,
          350,
          360,
          369,
          341,
          372,
          313,
          324,
          270
         ],
         "yaxis": "y"
        }
       ],
       "layout": {
        "autosize": true,
        "legend": {
         "title": {
          "text": "City"
         },
         "tracegroupgap": 0
        },
        "template": {
         "data": {
          "bar": [
           {
            "error_x": {
             "color": "#2a3f5f"
            },
            "error_y": {
             "color": "#2a3f5f"
            },
            "marker": {
             "line": {
              "color": "#E5ECF6",
              "width": 0.5
             },
             "pattern": {
              "fillmode": "overlay",
              "size": 10,
              "solidity": 0.2
             }
            },
            "type": "bar"
           }
          ],
          "barpolar": [
           {
            "marker": {
             "line": {
              "color": "#E5ECF6",
              "width": 0.5
             },
             "pattern": {
              "fillmode": "overlay",
              "size": 10,
              "solidity": 0.2
             }
            },
            "type": "barpolar"
           }
          ],
          "carpet": [
           {
            "aaxis": {
             "endlinecolor": "#2a3f5f",
             "gridcolor": "white",
             "linecolor": "white",
             "minorgridcolor": "white",
             "startlinecolor": "#2a3f5f"
            },
            "baxis": {
             "endlinecolor": "#2a3f5f",
             "gridcolor": "white",
             "linecolor": "white",
             "minorgridcolor": "white",
             "startlinecolor": "#2a3f5f"
            },
            "type": "carpet"
           }
          ],
          "choropleth": [
           {
            "colorbar": {
             "outlinewidth": 0,
             "ticks": ""
            },
            "type": "choropleth"
           }
          ],
          "contour": [
           {
            "colorbar": {
             "outlinewidth": 0,
             "ticks": ""
            },
            "colorscale": [
             [
              0,
              "#0d0887"
             ],
             [
              0.1111111111111111,
              "#46039f"
             ],
             [
              0.2222222222222222,
              "#7201a8"
             ],
             [
              0.3333333333333333,
              "#9c179e"
             ],
             [
              0.4444444444444444,
              "#bd3786"
             ],
             [
              0.5555555555555556,
              "#d8576b"
             ],
             [
              0.6666666666666666,
              "#ed7953"
             ],
             [
              0.7777777777777778,
              "#fb9f3a"
             ],
             [
              0.8888888888888888,
              "#fdca26"
             ],
             [
              1,
              "#f0f921"
             ]
            ],
            "type": "contour"
           }
          ],
          "contourcarpet": [
           {
            "colorbar": {
             "outlinewidth": 0,
             "ticks": ""
            },
            "type": "contourcarpet"
           }
          ],
          "heatmap": [
           {
            "colorbar": {
             "outlinewidth": 0,
             "ticks": ""
            },
            "colorscale": [
             [
              0,
              "#0d0887"
             ],
             [
              0.1111111111111111,
              "#46039f"
             ],
             [
              0.2222222222222222,
              "#7201a8"
             ],
             [
              0.3333333333333333,
              "#9c179e"
             ],
             [
              0.4444444444444444,
              "#bd3786"
             ],
             [
              0.5555555555555556,
              "#d8576b"
             ],
             [
              0.6666666666666666,
              "#ed7953"
             ],
             [
              0.7777777777777778,
              "#fb9f3a"
             ],
             [
              0.8888888888888888,
              "#fdca26"
             ],
             [
              1,
              "#f0f921"
             ]
            ],
            "type": "heatmap"
           }
          ],
          "heatmapgl": [
           {
            "colorbar": {
             "outlinewidth": 0,
             "ticks": ""
            },
            "colorscale": [
             [
              0,
              "#0d0887"
             ],
             [
              0.1111111111111111,
              "#46039f"
             ],
             [
              0.2222222222222222,
              "#7201a8"
             ],
             [
              0.3333333333333333,
              "#9c179e"
             ],
             [
              0.4444444444444444,
              "#bd3786"
             ],
             [
              0.5555555555555556,
              "#d8576b"
             ],
             [
              0.6666666666666666,
              "#ed7953"
             ],
             [
              0.7777777777777778,
              "#fb9f3a"
             ],
             [
              0.8888888888888888,
              "#fdca26"
             ],
             [
              1,
              "#f0f921"
             ]
            ],
            "type": "heatmapgl"
           }
          ],
          "histogram": [
           {
            "marker": {
             "pattern": {
              "fillmode": "overlay",
              "size": 10,
              "solidity": 0.2
             }
            },
            "type": "histogram"
           }
          ],
          "histogram2d": [
           {
            "colorbar": {
             "outlinewidth": 0,
             "ticks": ""
            },
            "colorscale": [
             [
              0,
              "#0d0887"
             ],
             [
              0.1111111111111111,
              "#46039f"
             ],
             [
              0.2222222222222222,
              "#7201a8"
             ],
             [
              0.3333333333333333,
              "#9c179e"
             ],
             [
              0.4444444444444444,
              "#bd3786"
             ],
             [
              0.5555555555555556,
              "#d8576b"
             ],
             [
              0.6666666666666666,
              "#ed7953"
             ],
             [
              0.7777777777777778,
              "#fb9f3a"
             ],
             [
              0.8888888888888888,
              "#fdca26"
             ],
             [
              1,
              "#f0f921"
             ]
            ],
            "type": "histogram2d"
           }
          ],
          "histogram2dcontour": [
           {
            "colorbar": {
             "outlinewidth": 0,
             "ticks": ""
            },
            "colorscale": [
             [
              0,
              "#0d0887"
             ],
             [
              0.1111111111111111,
              "#46039f"
             ],
             [
              0.2222222222222222,
              "#7201a8"
             ],
             [
              0.3333333333333333,
              "#9c179e"
             ],
             [
              0.4444444444444444,
              "#bd3786"
             ],
             [
              0.5555555555555556,
              "#d8576b"
             ],
             [
              0.6666666666666666,
              "#ed7953"
             ],
             [
              0.7777777777777778,
              "#fb9f3a"
             ],
             [
              0.8888888888888888,
              "#fdca26"
             ],
             [
              1,
              "#f0f921"
             ]
            ],
            "type": "histogram2dcontour"
           }
          ],
          "mesh3d": [
           {
            "colorbar": {
             "outlinewidth": 0,
             "ticks": ""
            },
            "type": "mesh3d"
           }
          ],
          "parcoords": [
           {
            "line": {
             "colorbar": {
              "outlinewidth": 0,
              "ticks": ""
             }
            },
            "type": "parcoords"
           }
          ],
          "pie": [
           {
            "automargin": true,
            "type": "pie"
           }
          ],
          "scatter": [
           {
            "fillpattern": {
             "fillmode": "overlay",
             "size": 10,
             "solidity": 0.2
            },
            "type": "scatter"
           }
          ],
          "scatter3d": [
           {
            "line": {
             "colorbar": {
              "outlinewidth": 0,
              "ticks": ""
             }
            },
            "marker": {
             "colorbar": {
              "outlinewidth": 0,
              "ticks": ""
             }
            },
            "type": "scatter3d"
           }
          ],
          "scattercarpet": [
           {
            "marker": {
             "colorbar": {
              "outlinewidth": 0,
              "ticks": ""
             }
            },
            "type": "scattercarpet"
           }
          ],
          "scattergeo": [
           {
            "marker": {
             "colorbar": {
              "outlinewidth": 0,
              "ticks": ""
             }
            },
            "type": "scattergeo"
           }
          ],
          "scattergl": [
           {
            "marker": {
             "colorbar": {
              "outlinewidth": 0,
              "ticks": ""
             }
            },
            "type": "scattergl"
           }
          ],
          "scattermapbox": [
           {
            "marker": {
             "colorbar": {
              "outlinewidth": 0,
              "ticks": ""
             }
            },
            "type": "scattermapbox"
           }
          ],
          "scatterpolar": [
           {
            "marker": {
             "colorbar": {
              "outlinewidth": 0,
              "ticks": ""
             }
            },
            "type": "scatterpolar"
           }
          ],
          "scatterpolargl": [
           {
            "marker": {
             "colorbar": {
              "outlinewidth": 0,
              "ticks": ""
             }
            },
            "type": "scatterpolargl"
           }
          ],
          "scatterternary": [
           {
            "marker": {
             "colorbar": {
              "outlinewidth": 0,
              "ticks": ""
             }
            },
            "type": "scatterternary"
           }
          ],
          "surface": [
           {
            "colorbar": {
             "outlinewidth": 0,
             "ticks": ""
            },
            "colorscale": [
             [
              0,
              "#0d0887"
             ],
             [
              0.1111111111111111,
              "#46039f"
             ],
             [
              0.2222222222222222,
              "#7201a8"
             ],
             [
              0.3333333333333333,
              "#9c179e"
             ],
             [
              0.4444444444444444,
              "#bd3786"
             ],
             [
              0.5555555555555556,
              "#d8576b"
             ],
             [
              0.6666666666666666,
              "#ed7953"
             ],
             [
              0.7777777777777778,
              "#fb9f3a"
             ],
             [
              0.8888888888888888,
              "#fdca26"
             ],
             [
              1,
              "#f0f921"
             ]
            ],
            "type": "surface"
           }
          ],
          "table": [
           {
            "cells": {
             "fill": {
              "color": "#EBF0F8"
             },
             "line": {
              "color": "white"
             }
            },
            "header": {
             "fill": {
              "color": "#C8D4E3"
             },
             "line": {
              "color": "white"
             }
            },
            "type": "table"
           }
          ]
         },
         "layout": {
          "annotationdefaults": {
           "arrowcolor": "#2a3f5f",
           "arrowhead": 0,
           "arrowwidth": 1
          },
          "autotypenumbers": "strict",
          "coloraxis": {
           "colorbar": {
            "outlinewidth": 0,
            "ticks": ""
           }
          },
          "colorscale": {
           "diverging": [
            [
             0,
             "#8e0152"
            ],
            [
             0.1,
             "#c51b7d"
            ],
            [
             0.2,
             "#de77ae"
            ],
            [
             0.3,
             "#f1b6da"
            ],
            [
             0.4,
             "#fde0ef"
            ],
            [
             0.5,
             "#f7f7f7"
            ],
            [
             0.6,
             "#e6f5d0"
            ],
            [
             0.7,
             "#b8e186"
            ],
            [
             0.8,
             "#7fbc41"
            ],
            [
             0.9,
             "#4d9221"
            ],
            [
             1,
             "#276419"
            ]
           ],
           "sequential": [
            [
             0,
             "#0d0887"
            ],
            [
             0.1111111111111111,
             "#46039f"
            ],
            [
             0.2222222222222222,
             "#7201a8"
            ],
            [
             0.3333333333333333,
             "#9c179e"
            ],
            [
             0.4444444444444444,
             "#bd3786"
            ],
            [
             0.5555555555555556,
             "#d8576b"
            ],
            [
             0.6666666666666666,
             "#ed7953"
            ],
            [
             0.7777777777777778,
             "#fb9f3a"
            ],
            [
             0.8888888888888888,
             "#fdca26"
            ],
            [
             1,
             "#f0f921"
            ]
           ],
           "sequentialminus": [
            [
             0,
             "#0d0887"
            ],
            [
             0.1111111111111111,
             "#46039f"
            ],
            [
             0.2222222222222222,
             "#7201a8"
            ],
            [
             0.3333333333333333,
             "#9c179e"
            ],
            [
             0.4444444444444444,
             "#bd3786"
            ],
            [
             0.5555555555555556,
             "#d8576b"
            ],
            [
             0.6666666666666666,
             "#ed7953"
            ],
            [
             0.7777777777777778,
             "#fb9f3a"
            ],
            [
             0.8888888888888888,
             "#fdca26"
            ],
            [
             1,
             "#f0f921"
            ]
           ]
          },
          "colorway": [
           "#636efa",
           "#EF553B",
           "#00cc96",
           "#ab63fa",
           "#FFA15A",
           "#19d3f3",
           "#FF6692",
           "#B6E880",
           "#FF97FF",
           "#FECB52"
          ],
          "font": {
           "color": "#2a3f5f"
          },
          "geo": {
           "bgcolor": "white",
           "lakecolor": "white",
           "landcolor": "#E5ECF6",
           "showlakes": true,
           "showland": true,
           "subunitcolor": "white"
          },
          "hoverlabel": {
           "align": "left"
          },
          "hovermode": "closest",
          "mapbox": {
           "style": "light"
          },
          "paper_bgcolor": "white",
          "plot_bgcolor": "#E5ECF6",
          "polar": {
           "angularaxis": {
            "gridcolor": "white",
            "linecolor": "white",
            "ticks": ""
           },
           "bgcolor": "#E5ECF6",
           "radialaxis": {
            "gridcolor": "white",
            "linecolor": "white",
            "ticks": ""
           }
          },
          "scene": {
           "xaxis": {
            "backgroundcolor": "#E5ECF6",
            "gridcolor": "white",
            "gridwidth": 2,
            "linecolor": "white",
            "showbackground": true,
            "ticks": "",
            "zerolinecolor": "white"
           },
           "yaxis": {
            "backgroundcolor": "#E5ECF6",
            "gridcolor": "white",
            "gridwidth": 2,
            "linecolor": "white",
            "showbackground": true,
            "ticks": "",
            "zerolinecolor": "white"
           },
           "zaxis": {
            "backgroundcolor": "#E5ECF6",
            "gridcolor": "white",
            "gridwidth": 2,
            "linecolor": "white",
            "showbackground": true,
            "ticks": "",
            "zerolinecolor": "white"
           }
          },
          "shapedefaults": {
           "line": {
            "color": "#2a3f5f"
           }
          },
          "ternary": {
           "aaxis": {
            "gridcolor": "white",
            "linecolor": "white",
            "ticks": ""
           },
           "baxis": {
            "gridcolor": "white",
            "linecolor": "white",
            "ticks": ""
           },
           "bgcolor": "#E5ECF6",
           "caxis": {
            "gridcolor": "white",
            "linecolor": "white",
            "ticks": ""
           }
          },
          "title": {
           "x": 0.05
          },
          "xaxis": {
           "automargin": true,
           "gridcolor": "white",
           "linecolor": "white",
           "ticks": "",
           "title": {
            "standoff": 15
           },
           "zerolinecolor": "white",
           "zerolinewidth": 2
          },
          "yaxis": {
           "automargin": true,
           "gridcolor": "white",
           "linecolor": "white",
           "ticks": "",
           "title": {
            "standoff": 15
           },
           "zerolinecolor": "white",
           "zerolinewidth": 2
          }
         }
        },
        "title": {
         "text": "Daily Crime Counts in Kansas City"
        },
        "xaxis": {
         "anchor": "y",
         "autorange": true,
         "domain": [
          0,
          1
         ],
         "range": [
          "2016-01-01",
          "2016-11-06"
         ],
         "title": {
          "text": "Date"
         },
         "type": "date"
        },
        "yaxis": {
         "anchor": "x",
         "autorange": true,
         "domain": [
          0,
          1
         ],
         "range": [
          193.66666666666666,
          520.3333333333334
         ],
         "title": {
          "text": "Total Crimes"
         },
         "type": "linear"
        }
       }
      },
      "image/png": "[encoded data removed]",
      "text/html": [
       "<div>                            <div id=\"9c45b3c0-caea-4515-b621-86bd7ed7e78c\" class=\"plotly-graph-div\" style=\"height:525px; width:100%;\"></div>            <script type=\"text/javascript\">                require([\"plotly\"], function(Plotly) {                    window.PLOTLYENV=window.PLOTLYENV || {};                                    if (document.getElementById(\"9c45b3c0-caea-4515-b621-86bd7ed7e78c\")) {                    Plotly.newPlot(                        \"9c45b3c0-caea-4515-b621-86bd7ed7e78c\",                        [{\"hovertemplate\":\"City=KANSAS CITY<br>Date=%{x}<br>Total Crimes=%{y}<extra></extra>\",\"legendgroup\":\"KANSAS CITY\",\"line\":{\"color\":\"#636efa\",\"dash\":\"solid\"},\"marker\":{\"symbol\":\"circle\"},\"mode\":\"lines\",\"name\":\"KANSAS CITY\",\"orientation\":\"v\",\"showlegend\":true,\"x\":[\"2016-01-01T00:00:00\",\"2016-01-02T00:00:00\",\"2016-01-03T00:00:00\",\"2016-01-04T00:00:00\",\"2016-01-05T00:00:00\",\"2016-01-06T00:00:00\",\"2016-01-07T00:00:00\",\"2016-01-08T00:00:00\",\"2016-01-09T00:00:00\",\"2016-01-10T00:00:00\",\"2016-01-11T00:00:00\",\"2016-01-12T00:00:00\",\"2016-01-13T00:00:00\",\"2016-01-14T00:00:00\",\"2016-01-15T00:00:00\",\"2016-01-16T00:00:00\",\"2016-01-17T00:00:00\",\"2016-01-18T00:00:00\",\"2016-01-19T00:00:00\",\"2016-01-20T00:00:00\",\"2016-01-21T00:00:00\",\"2016-01-22T00:00:00\",\"2016-01-23T00:00:00\",\"2016-01-24T00:00:00\",\"2016-01-25T00:00:00\",\"2016-01-26T00:00:00\",\"2016-01-27T00:00:00\",\"2016-01-28T00:00:00\",\"2016-01-29T00:00:00\",\"2016-01-30T00:00:00\",\"2016-01-31T00:00:00\",\"2016-02-01T00:00:00\",\"2016-02-02T00:00:00\",\"2016-02-03T00:00:00\",\"2016-02-04T00:00:00\",\"2016-02-05T00:00:00\",\"2016-02-06T00:00:00\",\"2016-02-07T00:00:00\",\"2016-02-08T00:00:00\",\"2016-02-09T00:00:00\",\"2016-02-10T00:00:00\",\"2016-02-11T00:00:00\",\"2016-02-12T00:00:00\",\"2016-02-13T00:00:00\",\"2016-02-14T00:00:00\",\"2016-02-15T00:00:00\",\"2016-02-16T00:00:00\",\"2016-02-17T00:00:00\",\"2016-02-18T00:00:00\",\"2016-02-19T00:00:00\",\"2016-02-20T00:00:00\",\"2016-02-21T00:00:00\",\"2016-02-22T00:00:00\",\"2016-02-23T00:00:00\",\"2016-02-24T00:00:00\",\"2016-02-25T00:00:00\",\"2016-02-26T00:00:00\",\"2016-02-27T00:00:00\",\"2016-02-28T00:00:00\",\"2016-02-29T00:00:00\",\"2016-03-01T00:00:00\",\"2016-03-02T00:00:00\",\"2016-03-03T00:00:00\",\"2016-03-04T00:00:00\",\"2016-03-05T00:00:00\",\"2016-03-06T00:00:00\",\"2016-03-07T00:00:00\",\"2016-03-08T00:00:00\",\"2016-03-09T00:00:00\",\"2016-03-10T00:00:00\",\"2016-03-11T00:00:00\",\"2016-03-12T00:00:00\",\"2016-03-13T00:00:00\",\"2016-03-14T00:00:00\",\"2016-03-15T00:00:00\",\"2016-03-16T00:00:00\",\"2016-03-17T00:00:00\",\"2016-03-18T00:00:00\",\"2016-03-19T00:00:00\",\"2016-03-20T00:00:00\",\"2016-03-21T00:00:00\",\"2016-03-22T00:00:00\",\"2016-03-23T00:00:00\",\"2016-03-24T00:00:00\",\"2016-03-25T00:00:00\",\"2016-03-26T00:00:00\",\"2016-03-27T00:00:00\",\"2016-03-28T00:00:00\",\"2016-03-29T00:00:00\",\"2016-03-30T00:00:00\",\"2016-03-31T00:00:00\",\"2016-04-01T00:00:00\",\"2016-04-02T00:00:00\",\"2016-04-03T00:00:00\",\"2016-04-04T00:00:00\",\"2016-04-05T00:00:00\",\"2016-04-06T00:00:00\",\"2016-04-07T00:00:00\",\"2016-04-08T00:00:00\",\"2016-04-09T00:00:00\",\"2016-04-10T00:00:00\",\"2016-04-11T00:00:00\",\"2016-04-12T00:00:00\",\"2016-04-13T00:00:00\",\"2016-04-14T00:00:00\",\"2016-04-15T00:00:00\",\"2016-04-16T00:00:00\",\"2016-04-17T00:00:00\",\"2016-04-18T00:00:00\",\"2016-04-19T00:00:00\",\"2016-04-20T00:00:00\",\"2016-04-21T00:00:00\",\"2016-04-22T00:00:00\",\"2016-04-23T00:00:00\",\"2016-04-24T00:00:00\",\"2016-04-25T00:00:00\",\"2016-04-26T00:00:00\",\"2016-04-27T00:00:00\",\"2016-04-28T00:00:00\",\"2016-04-29T00:00:00\",\"2016-04-30T00:00:00\",\"2016-05-01T00:00:00\",\"2016-05-02T00:00:00\",\"2016-05-03T00:00:00\",\"2016-05-04T00:00:00\",\"2016-05-05T00:00:00\",\"2016-05-06T00:00:00\",\"2016-05-07T00:00:00\",\"2016-05-08T00:00:00\",\"2016-05-09T00:00:00\",\"2016-05-10T00:00:00\",\"2016-05-11T00:00:00\",\"2016-05-12T00:00:00\",\"2016-05-13T00:00:00\",\"2016-05-14T00:00:00\",\"2016-05-15T00:00:00\",\"2016-05-16T00:00:00\",\"2016-05-17T00:00:00\",\"2016-05-18T00:00:00\",\"2016-05-19T00:00:00\",\"2016-05-20T00:00:00\",\"2016-05-21T00:00:00\",\"2016-05-22T00:00:00\",\"2016-05-23T00:00:00\",\"2016-05-24T00:00:00\",\"2016-05-25T00:00:00\",\"2016-05-26T00:00:00\",\"2016-05-27T00:00:00\",\"2016-05-28T00:00:00\",\"2016-05-29T00:00:00\",\"2016-05-30T00:00:00\",\"2016-05-31T00:00:00\",\"2016-06-01T00:00:00\",\"2016-06-02T00:00:00\",\"2016-06-03T00:00:00\",\"2016-06-04T00:00:00\",\"2016-06-05T00:00:00\",\"2016-06-06T00:00:00\",\"2016-06-07T00:00:00\",\"2016-06-08T00:00:00\",\"2016-06-09T00:00:00\",\"2016-06-10T00:00:00\",\"2016-06-11T00:00:00\",\"2016-06-12T00:00:00\",\"2016-06-13T00:00:00\",\"2016-06-14T00:00:00\",\"2016-06-15T00:00:00\",\"2016-06-16T00:00:00\",\"2016-06-17T00:00:00\",\"2016-06-18T00:00:00\",\"2016-06-19T00:00:00\",\"2016-06-20T00:00:00\",\"2016-06-21T00:00:00\",\"2016-06-22T00:00:00\",\"2016-06-23T00:00:00\",\"2016-06-24T00:00:00\",\"2016-06-25T00:00:00\",\"2016-06-26T00:00:00\",\"2016-06-27T00:00:00\",\"2016-06-28T00:00:00\",\"2016-06-29T00:00:00\",\"2016-06-30T00:00:00\",\"2016-07-01T00:00:00\",\"2016-07-02T00:00:00\",\"2016-07-03T00:00:00\",\"2016-07-04T00:00:00\",\"2016-07-05T00:00:00\",\"2016-07-06T00:00:00\",\"2016-07-07T00:00:00\",\"2016-07-08T00:00:00\",\"2016-07-09T00:00:00\",\"2016-07-10T00:00:00\",\"2016-07-11T00:00:00\",\"2016-07-12T00:00:00\",\"2016-07-13T00:00:00\",\"2016-07-14T00:00:00\",\"2016-07-15T00:00:00\",\"2016-07-16T00:00:00\",\"2016-07-17T00:00:00\",\"2016-07-18T00:00:00\",\"2016-07-19T00:00:00\",\"2016-07-20T00:00:00\",\"2016-07-21T00:00:00\",\"2016-07-22T00:00:00\",\"2016-07-23T00:00:00\",\"2016-07-24T00:00:00\",\"2016-07-25T00:00:00\",\"2016-07-26T00:00:00\",\"2016-07-27T00:00:00\",\"2016-07-28T00:00:00\",\"2016-07-29T00:00:00\",\"2016-07-30T00:00:00\",\"2016-07-31T00:00:00\",\"2016-08-01T00:00:00\",\"2016-08-02T00:00:00\",\"2016-08-03T00:00:00\",\"2016-08-04T00:00:00\",\"2016-08-05T00:00:00\",\"2016-08-06T00:00:00\",\"2016-08-07T00:00:00\",\"2016-08-08T00:00:00\",\"2016-08-09T00:00:00\",\"2016-08-10T00:00:00\",\"2016-08-11T00:00:00\",\"2016-08-12T00:00:00\",\"2016-08-13T00:00:00\",\"2016-08-14T00:00:00\",\"2016-08-15T00:00:00\",\"2016-08-16T00:00:00\",\"2016-08-17T00:00:00\",\"2016-08-18T00:00:00\",\"2016-08-19T00:00:00\",\"2016-08-20T00:00:00\",\"2016-08-21T00:00:00\",\"2016-08-22T00:00:00\",\"2016-08-23T00:00:00\",\"2016-08-24T00:00:00\",\"2016-08-25T00:00:00\",\"2016-08-26T00:00:00\",\"2016-08-27T00:00:00\",\"2016-08-28T00:00:00\",\"2016-08-29T00:00:00\",\"2016-08-30T00:00:00\",\"2016-08-31T00:00:00\",\"2016-09-01T00:00:00\",\"2016-09-02T00:00:00\",\"2016-09-03T00:00:00\",\"2016-09-04T00:00:00\",\"2016-09-05T00:00:00\",\"2016-09-06T00:00:00\",\"2016-09-07T00:00:00\",\"2016-09-08T00:00:00\",\"2016-09-09T00:00:00\",\"2016-09-10T00:00:00\",\"2016-09-11T00:00:00\",\"2016-09-12T00:00:00\",\"2016-09-13T00:00:00\",\"2016-09-14T00:00:00\",\"2016-09-15T00:00:00\",\"2016-09-16T00:00:00\",\"2016-09-17T00:00:00\",\"2016-09-18T00:00:00\",\"2016-09-19T00:00:00\",\"2016-09-20T00:00:00\",\"2016-09-21T00:00:00\",\"2016-09-22T00:00:00\",\"2016-09-23T00:00:00\",\"2016-09-24T00:00:00\",\"2016-09-25T00:00:00\",\"2016-09-26T00:00:00\",\"2016-09-27T00:00:00\",\"2016-09-28T00:00:00\",\"2016-09-29T00:00:00\",\"2016-09-30T00:00:00\",\"2016-10-01T00:00:00\",\"2016-10-02T00:00:00\",\"2016-10-03T00:00:00\",\"2016-10-04T00:00:00\",\"2016-10-05T00:00:00\",\"2016-10-06T00:00:00\",\"2016-10-07T00:00:00\",\"2016-10-08T00:00:00\",\"2016-10-09T00:00:00\",\"2016-10-10T00:00:00\",\"2016-10-11T00:00:00\",\"2016-10-12T00:00:00\",\"2016-10-13T00:00:00\",\"2016-10-14T00:00:00\",\"2016-10-15T00:00:00\",\"2016-10-16T00:00:00\",\"2016-10-17T00:00:00\",\"2016-10-18T00:00:00\",\"2016-10-19T00:00:00\",\"2016-10-20T00:00:00\",\"2016-10-21T00:00:00\",\"2016-10-22T00:00:00\",\"2016-10-23T00:00:00\",\"2016-10-24T00:00:00\",\"2016-10-25T00:00:00\",\"2016-10-26T00:00:00\",\"2016-10-27T00:00:00\",\"2016-10-28T00:00:00\",\"2016-10-29T00:00:00\",\"2016-10-30T00:00:00\",\"2016-10-31T00:00:00\",\"2016-11-01T00:00:00\",\"2016-11-02T00:00:00\",\"2016-11-03T00:00:00\",\"2016-11-04T00:00:00\",\"2016-11-05T00:00:00\",\"2016-11-06T00:00:00\"],\"xaxis\":\"x\",\"y\":[295,369,320,355,381,322,353,314,305,270,345,338,321,326,407,273,224,295,262,277,271,261,281,253,392,387,377,311,342,277,299,392,269,285,360,318,291,216,258,247,340,210,216,336,264,277,334,342,330,337,352,305,282,367,308,262,311,262,242,340,386,285,273,342,301,267,465,318,369,328,317,332,243,390,361,308,272,292,336,215,338,386,356,264,306,343,263,373,276,314,290,302,353,310,409,386,300,325,385,341,314,363,291,320,337,350,296,357,274,349,417,273,374,331,355,412,290,367,361,241,333,301,376,362,346,319,297,273,310,397,350,462,295,264,332,278,335,386,369,381,364,372,298,412,340,361,282,360,301,380,382,393,381,391,395,369,308,351,343,406,378,298,315,355,414,441,467,395,335,319,345,493,415,350,362,272,420,314,442,398,405,440,295,304,340,354,483,376,437,354,347,420,385,420,482,381,419,447,362,451,490,320,352,419,421,389,357,455,504,380,402,426,406,403,391,420,463,416,459,348,389,415,471,416,400,377,349,392,431,414,351,424,355,420,402,437,466,331,327,344,383,410,409,373,434,414,382,406,378,478,408,383,366,314,352,354,353,331,380,330,404,314,442,347,409,400,388,445,427,447,328,368,334,353,339,340,395,385,374,354,333,290,324,393,438,334,355,359,357,290,413,495,280,379,367,289,322,412,383,351,373,361,424,350,360,369,341,372,313,324,270],\"yaxis\":\"y\",\"type\":\"scatter\"}],                        {\"template\":{\"data\":{\"histogram2dcontour\":[{\"type\":\"histogram2dcontour\",\"colorbar\":{\"outlinewidth\":0,\"ticks\":\"\"},\"colorscale\":[[0.0,\"#0d0887\"],[0.1111111111111111,\"#46039f\"],[0.2222222222222222,\"#7201a8\"],[0.3333333333333333,\"#9c179e\"],[0.4444444444444444,\"#bd3786\"],[0.5555555555555556,\"#d8576b\"],[0.6666666666666666,\"#ed7953\"],[0.7777777777777778,\"#fb9f3a\"],[0.8888888888888888,\"#fdca26\"],[1.0,\"#f0f921\"]]}],\"choropleth\":[{\"type\":\"choropleth\",\"colorbar\":{\"outlinewidth\":0,\"ticks\":\"\"}}],\"histogram2d\":[{\"type\":\"histogram2d\",\"colorbar\":{\"outlinewidth\":0,\"ticks\":\"\"},\"colorscale\":[[0.0,\"#0d0887\"],[0.1111111111111111,\"#46039f\"],[0.2222222222222222,\"#7201a8\"],[0.3333333333333333,\"#9c179e\"],[0.4444444444444444,\"#bd3786\"],[0.5555555555555556,\"#d8576b\"],[0.6666666666666666,\"#ed7953\"],[0.7777777777777778,\"#fb9f3a\"],[0.8888888888888888,\"#fdca26\"],[1.0,\"#f0f921\"]]}],\"heatmap\":[{\"type\":\"heatmap\",\"colorbar\":{\"outlinewidth\":0,\"ticks\":\"\"},\"colorscale\":[[0.0,\"#0d0887\"],[0.1111111111111111,\"#46039f\"],[0.2222222222222222,\"#7201a8\"],[0.3333333333333333,\"#9c179e\"],[0.4444444444444444,\"#bd3786\"],[0.5555555555555556,\"#d8576b\"],[0.6666666666666666,\"#ed7953\"],[0.7777777777777778,\"#fb9f3a\"],[0.8888888888888888,\"#fdca26\"],[1.0,\"#f0f921\"]]}],\"heatmapgl\":[{\"type\":\"heatmapgl\",\"colorbar\":{\"outlinewidth\":0,\"ticks\":\"\"},\"colorscale\":[[0.0,\"#0d0887\"],[0.1111111111111111,\"#46039f\"],[0.2222222222222222,\"#7201a8\"],[0.3333333333333333,\"#9c179e\"],[0.4444444444444444,\"#bd3786\"],[0.5555555555555556,\"#d8576b\"],[0.6666666666666666,\"#ed7953\"],[0.7777777777777778,\"#fb9f3a\"],[0.8888888888888888,\"#fdca26\"],[1.0,\"#f0f921\"]]}],\"contourcarpet\":[{\"type\":\"contourcarpet\",\"colorbar\":{\"outlinewidth\":0,\"ticks\":\"\"}}],\"contour\":[{\"type\":\"contour\",\"colorbar\":{\"outlinewidth\":0,\"ticks\":\"\"},\"colorscale\":[[0.0,\"#0d0887\"],[0.1111111111111111,\"#46039f\"],[0.2222222222222222,\"#7201a8\"],[0.3333333333333333,\"#9c179e\"],[0.4444444444444444,\"#bd3786\"],[0.5555555555555556,\"#d8576b\"],[0.6666666666666666,\"#ed7953\"],[0.7777777777777778,\"#fb9f3a\"],[0.8888888888888888,\"#fdca26\"],[1.0,\"#f0f921\"]]}],\"surface\":[{\"type\":\"surface\",\"colorbar\":{\"outlinewidth\":0,\"ticks\":\"\"},\"colorscale\":[[0.0,\"#0d0887\"],[0.1111111111111111,\"#46039f\"],[0.2222222222222222,\"#7201a8\"],[0.3333333333333333,\"#9c179e\"],[0.4444444444444444,\"#bd3786\"],[0.5555555555555556,\"#d8576b\"],[0.6666666666666666,\"#ed7953\"],[0.7777777777777778,\"#fb9f3a\"],[0.8888888888888888,\"#fdca26\"],[1.0,\"#f0f921\"]]}],\"mesh3d\":[{\"type\":\"mesh3d\",\"colorbar\":{\"outlinewidth\":0,\"ticks\":\"\"}}],\"scatter\":[{\"fillpattern\":{\"fillmode\":\"overlay\",\"size\":10,\"solidity\":0.2},\"type\":\"scatter\"}],\"parcoords\":[{\"type\":\"parcoords\",\"line\":{\"colorbar\":{\"outlinewidth\":0,\"ticks\":\"\"}}}],\"scatterpolargl\":[{\"type\":\"scatterpolargl\",\"marker\":{\"colorbar\":{\"outlinewidth\":0,\"ticks\":\"\"}}}],\"bar\":[{\"error_x\":{\"color\":\"#2a3f5f\"},\"error_y\":{\"color\":\"#2a3f5f\"},\"marker\":{\"line\":{\"color\":\"#E5ECF6\",\"width\":0.5},\"pattern\":{\"fillmode\":\"overlay\",\"size\":10,\"solidity\":0.2}},\"type\":\"bar\"}],\"scattergeo\":[{\"type\":\"scattergeo\",\"marker\":{\"colorbar\":{\"outlinewidth\":0,\"ticks\":\"\"}}}],\"scatterpolar\":[{\"type\":\"scatterpolar\",\"marker\":{\"colorbar\":{\"outlinewidth\":0,\"ticks\":\"\"}}}],\"histogram\":[{\"marker\":{\"pattern\":{\"fillmode\":\"overlay\",\"size\":10,\"solidity\":0.2}},\"type\":\"histogram\"}],\"scattergl\":[{\"type\":\"scattergl\",\"marker\":{\"colorbar\":{\"outlinewidth\":0,\"ticks\":\"\"}}}],\"scatter3d\":[{\"type\":\"scatter3d\",\"line\":{\"colorbar\":{\"outlinewidth\":0,\"ticks\":\"\"}},\"marker\":{\"colorbar\":{\"outlinewidth\":0,\"ticks\":\"\"}}}],\"scattermapbox\":[{\"type\":\"scattermapbox\",\"marker\":{\"colorbar\":{\"outlinewidth\":0,\"ticks\":\"\"}}}],\"scatterternary\":[{\"type\":\"scatterternary\",\"marker\":{\"colorbar\":{\"outlinewidth\":0,\"ticks\":\"\"}}}],\"scattercarpet\":[{\"type\":\"scattercarpet\",\"marker\":{\"colorbar\":{\"outlinewidth\":0,\"ticks\":\"\"}}}],\"carpet\":[{\"aaxis\":{\"endlinecolor\":\"#2a3f5f\",\"gridcolor\":\"white\",\"linecolor\":\"white\",\"minorgridcolor\":\"white\",\"startlinecolor\":\"#2a3f5f\"},\"baxis\":{\"endlinecolor\":\"#2a3f5f\",\"gridcolor\":\"white\",\"linecolor\":\"white\",\"minorgridcolor\":\"white\",\"startlinecolor\":\"#2a3f5f\"},\"type\":\"carpet\"}],\"table\":[{\"cells\":{\"fill\":{\"color\":\"#EBF0F8\"},\"line\":{\"color\":\"white\"}},\"header\":{\"fill\":{\"color\":\"#C8D4E3\"},\"line\":{\"color\":\"white\"}},\"type\":\"table\"}],\"barpolar\":[{\"marker\":{\"line\":{\"color\":\"#E5ECF6\",\"width\":0.5},\"pattern\":{\"fillmode\":\"overlay\",\"size\":10,\"solidity\":0.2}},\"type\":\"barpolar\"}],\"pie\":[{\"automargin\":true,\"type\":\"pie\"}]},\"layout\":{\"autotypenumbers\":\"strict\",\"colorway\":[\"#636efa\",\"#EF553B\",\"#00cc96\",\"#ab63fa\",\"#FFA15A\",\"#19d3f3\",\"#FF6692\",\"#B6E880\",\"#FF97FF\",\"#FECB52\"],\"font\":{\"color\":\"#2a3f5f\"},\"hovermode\":\"closest\",\"hoverlabel\":{\"align\":\"left\"},\"paper_bgcolor\":\"white\",\"plot_bgcolor\":\"#E5ECF6\",\"polar\":{\"bgcolor\":\"#E5ECF6\",\"angularaxis\":{\"gridcolor\":\"white\",\"linecolor\":\"white\",\"ticks\":\"\"},\"radialaxis\":{\"gridcolor\":\"white\",\"linecolor\":\"white\",\"ticks\":\"\"}},\"ternary\":{\"bgcolor\":\"#E5ECF6\",\"aaxis\":{\"gridcolor\":\"white\",\"linecolor\":\"white\",\"ticks\":\"\"},\"baxis\":{\"gridcolor\":\"white\",\"linecolor\":\"white\",\"ticks\":\"\"},\"caxis\":{\"gridcolor\":\"white\",\"linecolor\":\"white\",\"ticks\":\"\"}},\"coloraxis\":{\"colorbar\":{\"outlinewidth\":0,\"ticks\":\"\"}},\"colorscale\":{\"sequential\":[[0.0,\"#0d0887\"],[0.1111111111111111,\"#46039f\"],[0.2222222222222222,\"#7201a8\"],[0.3333333333333333,\"#9c179e\"],[0.4444444444444444,\"#bd3786\"],[0.5555555555555556,\"#d8576b\"],[0.6666666666666666,\"#ed7953\"],[0.7777777777777778,\"#fb9f3a\"],[0.8888888888888888,\"#fdca26\"],[1.0,\"#f0f921\"]],\"sequentialminus\":[[0.0,\"#0d0887\"],[0.1111111111111111,\"#46039f\"],[0.2222222222222222,\"#7201a8\"],[0.3333333333333333,\"#9c179e\"],[0.4444444444444444,\"#bd3786\"],[0.5555555555555556,\"#d8576b\"],[0.6666666666666666,\"#ed7953\"],[0.7777777777777778,\"#fb9f3a\"],[0.8888888888888888,\"#fdca26\"],[1.0,\"#f0f921\"]],\"diverging\":[[0,\"#8e0152\"],[0.1,\"#c51b7d\"],[0.2,\"#de77ae\"],[0.3,\"#f1b6da\"],[0.4,\"#fde0ef\"],[0.5,\"#f7f7f7\"],[0.6,\"#e6f5d0\"],[0.7,\"#b8e186\"],[0.8,\"#7fbc41\"],[0.9,\"#4d9221\"],[1,\"#276419\"]]},\"xaxis\":{\"gridcolor\":\"white\",\"linecolor\":\"white\",\"ticks\":\"\",\"title\":{\"standoff\":15},\"zerolinecolor\":\"white\",\"automargin\":true,\"zerolinewidth\":2},\"yaxis\":{\"gridcolor\":\"white\",\"linecolor\":\"white\",\"ticks\":\"\",\"title\":{\"standoff\":15},\"zerolinecolor\":\"white\",\"automargin\":true,\"zerolinewidth\":2},\"scene\":{\"xaxis\":{\"backgroundcolor\":\"#E5ECF6\",\"gridcolor\":\"white\",\"linecolor\":\"white\",\"showbackground\":true,\"ticks\":\"\",\"zerolinecolor\":\"white\",\"gridwidth\":2},\"yaxis\":{\"backgroundcolor\":\"#E5ECF6\",\"gridcolor\":\"white\",\"linecolor\":\"white\",\"showbackground\":true,\"ticks\":\"\",\"zerolinecolor\":\"white\",\"gridwidth\":2},\"zaxis\":{\"backgroundcolor\":\"#E5ECF6\",\"gridcolor\":\"white\",\"linecolor\":\"white\",\"showbackground\":true,\"ticks\":\"\",\"zerolinecolor\":\"white\",\"gridwidth\":2}},\"shapedefaults\":{\"line\":{\"color\":\"#2a3f5f\"}},\"annotationdefaults\":{\"arrowcolor\":\"#2a3f5f\",\"arrowhead\":0,\"arrowwidth\":1},\"geo\":{\"bgcolor\":\"white\",\"landcolor\":\"#E5ECF6\",\"subunitcolor\":\"white\",\"showland\":true,\"showlakes\":true,\"lakecolor\":\"white\"},\"title\":{\"x\":0.05},\"mapbox\":{\"style\":\"light\"}}},\"xaxis\":{\"anchor\":\"y\",\"domain\":[0.0,1.0],\"title\":{\"text\":\"Date\"}},\"yaxis\":{\"anchor\":\"x\",\"domain\":[0.0,1.0],\"title\":{\"text\":\"Total Crimes\"}},\"legend\":{\"title\":{\"text\":\"City\"},\"tracegroupgap\":0},\"title\":{\"text\":\"Daily Crime Counts in Kansas City\"}},                        {\"responsive\": true}                    ).then(function(){\n",
       "                            \n",
       "var gd = document.getElementById('9c45b3c0-caea-4515-b621-86bd7ed7e78c');\n",
       "var x = new MutationObserver(function (mutations, observer) {{\n",
       "        var display = window.getComputedStyle(gd).display;\n",
       "        if (!display || display === 'none') {{\n",
       "            console.log([gd, 'removed!']);\n",
       "            Plotly.purge(gd);\n",
       "            observer.disconnect();\n",
       "        }}\n",
       "}});\n",
       "\n",
       "// Listen for the removal of the full notebook cells\n",
       "var notebookContainer = gd.closest('#notebook-container');\n",
       "if (notebookContainer) {{\n",
       "    x.observe(notebookContainer, {childList: true});\n",
       "}}\n",
       "\n",
       "// Listen for the clearing of the current output cell\n",
       "var outputEl = gd.closest('.output');\n",
       "if (outputEl) {{\n",
       "    x.observe(outputEl, {childList: true});\n",
       "}}\n",
       "\n",
       "                        })                };                });            </script>        </div>"
      ]
     },
     "metadata": {},
     "output_type": "display_data"
    }
   ],
   "source": [
    "# Lấy dataframe có City là Kansas City\n",
    "kansas_city_df = data[data['City'] == 'KANSAS CITY']\n",
    "\n",
    "# Nhóm dữ liệu theo ngày và thành phố, sau đó tính tổng số vụ phạm tội hàng ngày\n",
    "daily_crime_counts = kansas_city_df.groupby(['Reported_Date', 'City']).size().reset_index(name='Total_Crimes')\n",
    "\n",
    "# Vẽ biểu đồ với Plotly\n",
    "fig = px.line(daily_crime_counts, x='Reported_Date', y='Total_Crimes', color='City', \n",
    "              title='Daily Crime Counts in Kansas City',\n",
    "              labels={'Total_Crimes':'Total Crimes', 'Reported_Date':'Date'})\n",
    "\n",
    "# Hiển thị biểu đồ\n",
    "fig.show()"
   ]
  },
  {
   "cell_type": "markdown",
   "id": "219c419d",
   "metadata": {},
   "source": [
    "- Xu hướng tổng quát:\n",
    "    + Biểu đồ cho thấy số lượng vụ phạm tội dao động khá mạnh mỗi ngày trong suốt năm 2016.\n",
    "    + Không có xu hướng tăng hay giảm rõ ràng về số lượng tội phạm qua các tháng.\n",
    "\n",
    "- Dao động hàng ngày:\n",
    "    + Số vụ phạm tội có sự biến động khá lớn mỗi ngày, với một số ngày có số lượng vụ phạm tội rất cao (lên đến khoảng 500 vụ), trong khi một số ngày khác lại có số lượng vụ phạm tội thấp hơn nhiều (khoảng 200 vụ).\n",
    "    + Điều này cho thấy tính biến động cao trong số lượng tội phạm hàng ngày tại Kansas City.\n",
    "    \n",
    "- Các đỉnh cao và thấp:\n",
    "    + Có một số đỉnh cao (peaks) nổi bật, chẳng hạn vào khoảng tháng 3, tháng 6, và tháng 9, cho thấy những ngày có số lượng vụ phạm tội đặc biệt cao.\n",
    "    + Ngược lại, cũng có những giai đoạn số lượng tội phạm giảm đáng kể, chẳng hạn vào cuối tháng 2, đầu tháng 4, và cuối tháng 12.\n",
    "    \n",
    "- Biến động theo mùa:\n",
    "    + Mặc dù có nhiều biến động hàng ngày, biểu đồ không cho thấy rõ ràng một mô hình theo mùa nhất định. Cả mùa xuân, mùa hè, mùa thu, và mùa đông đều có các đỉnh cao và thấp khác nhau.\n"
   ]
  },
  {
   "cell_type": "markdown",
   "id": "dc747e4b",
   "metadata": {},
   "source": [
    "#### Top 9 thành phố còn lại"
   ]
  },
  {
   "cell_type": "code",
   "execution_count": 47,
   "id": "ac48e378",
   "metadata": {},
   "outputs": [
    {
     "data": {
      "application/vnd.plotly.v1+json": {
       "config": {
        "plotlyServerURL": "https://plot.ly"
       },
       "data": [
        {
         "hovertemplate": "City=KCMO<br>Date=%{x}<br>Total Crimes=%{y}<extra></extra>",
         "legendgroup": "KCMO",
         "line": {
          "color": "#636efa",
          "dash": "solid"
         },
         "marker": {
          "symbol": "circle"
         },
         "mode": "lines",
         "name": "KCMO",
         "orientation": "v",
         "showlegend": true,
         "type": "scatter",
         "x": [
          "2016-01-01T00:00:00",
          "2016-01-02T00:00:00",
          "2016-01-25T00:00:00",
          "2016-01-26T00:00:00",
          "2016-01-27T00:00:00",
          "2016-02-01T00:00:00",
          "2016-02-02T00:00:00",
          "2016-02-16T00:00:00",
          "2016-02-18T00:00:00",
          "2016-02-20T00:00:00",
          "2016-02-25T00:00:00",
          "2016-02-26T00:00:00",
          "2016-03-09T00:00:00",
          "2016-03-20T00:00:00",
          "2016-03-21T00:00:00",
          "2016-03-22T00:00:00",
          "2016-03-23T00:00:00",
          "2016-03-24T00:00:00",
          "2016-03-25T00:00:00",
          "2016-03-31T00:00:00",
          "2016-04-04T00:00:00",
          "2016-04-05T00:00:00",
          "2016-04-07T00:00:00",
          "2016-04-09T00:00:00",
          "2016-04-14T00:00:00",
          "2016-04-15T00:00:00",
          "2016-05-03T00:00:00",
          "2016-05-09T00:00:00",
          "2016-05-10T00:00:00",
          "2016-05-11T00:00:00",
          "2016-05-12T00:00:00",
          "2016-05-13T00:00:00",
          "2016-05-22T00:00:00",
          "2016-05-24T00:00:00",
          "2016-05-26T00:00:00",
          "2016-05-31T00:00:00",
          "2016-06-04T00:00:00",
          "2016-06-06T00:00:00",
          "2016-06-13T00:00:00",
          "2016-06-14T00:00:00",
          "2016-06-19T00:00:00",
          "2016-06-24T00:00:00",
          "2016-07-13T00:00:00",
          "2016-07-23T00:00:00",
          "2016-07-24T00:00:00",
          "2016-08-01T00:00:00",
          "2016-08-03T00:00:00",
          "2016-08-07T00:00:00",
          "2016-08-09T00:00:00",
          "2016-08-16T00:00:00",
          "2016-09-01T00:00:00",
          "2016-09-02T00:00:00",
          "2016-09-24T00:00:00",
          "2016-09-25T00:00:00",
          "2016-10-01T00:00:00",
          "2016-10-04T00:00:00",
          "2016-10-05T00:00:00",
          "2016-10-10T00:00:00",
          "2016-10-15T00:00:00",
          "2016-10-16T00:00:00",
          "2016-10-17T00:00:00",
          "2016-10-19T00:00:00"
         ],
         "xaxis": "x",
         "y": [
          2,
          4,
          2,
          1,
          4,
          2,
          2,
          2,
          4,
          2,
          2,
          6,
          2,
          4,
          4,
          4,
          2,
          8,
          3,
          9,
          3,
          2,
          2,
          2,
          9,
          2,
          5,
          2,
          2,
          6,
          2,
          2,
          3,
          2,
          4,
          2,
          2,
          6,
          2,
          5,
          3,
          3,
          2,
          2,
          2,
          4,
          1,
          2,
          2,
          2,
          2,
          2,
          2,
          2,
          2,
          2,
          2,
          2,
          2,
          2,
          3,
          2
         ],
         "yaxis": "y"
        },
        {
         "hovertemplate": "City=INDEPENDENCE<br>Date=%{x}<br>Total Crimes=%{y}<extra></extra>",
         "legendgroup": "INDEPENDENCE",
         "line": {
          "color": "#EF553B",
          "dash": "solid"
         },
         "marker": {
          "symbol": "circle"
         },
         "mode": "lines",
         "name": "INDEPENDENCE",
         "orientation": "v",
         "showlegend": true,
         "type": "scatter",
         "x": [
          "2016-01-02T00:00:00",
          "2016-01-08T00:00:00",
          "2016-01-10T00:00:00",
          "2016-01-13T00:00:00",
          "2016-01-27T00:00:00",
          "2016-01-29T00:00:00",
          "2016-01-30T00:00:00",
          "2016-01-31T00:00:00",
          "2016-02-15T00:00:00",
          "2016-02-19T00:00:00",
          "2016-03-04T00:00:00",
          "2016-03-07T00:00:00",
          "2016-03-09T00:00:00",
          "2016-03-11T00:00:00",
          "2016-03-17T00:00:00",
          "2016-03-21T00:00:00",
          "2016-03-22T00:00:00",
          "2016-03-23T00:00:00",
          "2016-03-27T00:00:00",
          "2016-04-01T00:00:00",
          "2016-04-10T00:00:00",
          "2016-04-17T00:00:00",
          "2016-04-19T00:00:00",
          "2016-04-20T00:00:00",
          "2016-04-23T00:00:00",
          "2016-05-02T00:00:00",
          "2016-05-06T00:00:00",
          "2016-05-07T00:00:00",
          "2016-05-08T00:00:00",
          "2016-05-25T00:00:00",
          "2016-05-26T00:00:00",
          "2016-06-08T00:00:00",
          "2016-06-26T00:00:00",
          "2016-07-26T00:00:00",
          "2016-07-28T00:00:00",
          "2016-07-29T00:00:00",
          "2016-08-15T00:00:00",
          "2016-08-17T00:00:00",
          "2016-08-19T00:00:00",
          "2016-08-20T00:00:00",
          "2016-08-21T00:00:00",
          "2016-08-24T00:00:00",
          "2016-08-28T00:00:00",
          "2016-08-29T00:00:00",
          "2016-09-01T00:00:00",
          "2016-09-03T00:00:00",
          "2016-09-13T00:00:00",
          "2016-09-18T00:00:00",
          "2016-09-25T00:00:00",
          "2016-09-27T00:00:00",
          "2016-09-30T00:00:00",
          "2016-10-22T00:00:00",
          "2016-10-28T00:00:00",
          "2016-11-01T00:00:00"
         ],
         "xaxis": "x",
         "y": [
          4,
          2,
          4,
          2,
          2,
          4,
          2,
          2,
          6,
          4,
          2,
          2,
          2,
          2,
          3,
          2,
          4,
          2,
          2,
          2,
          2,
          2,
          3,
          2,
          3,
          2,
          3,
          4,
          2,
          2,
          1,
          2,
          2,
          2,
          8,
          2,
          2,
          3,
          3,
          6,
          2,
          2,
          2,
          2,
          2,
          2,
          6,
          1,
          2,
          9,
          6,
          2,
          3,
          4
         ],
         "yaxis": "y"
        },
        {
         "hovertemplate": "City=GRANDVIEW<br>Date=%{x}<br>Total Crimes=%{y}<extra></extra>",
         "legendgroup": "GRANDVIEW",
         "line": {
          "color": "#00cc96",
          "dash": "solid"
         },
         "marker": {
          "symbol": "circle"
         },
         "mode": "lines",
         "name": "GRANDVIEW",
         "orientation": "v",
         "showlegend": true,
         "type": "scatter",
         "x": [
          "2016-01-11T00:00:00",
          "2016-01-25T00:00:00",
          "2016-02-06T00:00:00",
          "2016-02-14T00:00:00",
          "2016-03-12T00:00:00",
          "2016-03-29T00:00:00",
          "2016-06-10T00:00:00",
          "2016-07-10T00:00:00",
          "2016-07-13T00:00:00",
          "2016-09-01T00:00:00",
          "2016-09-26T00:00:00",
          "2016-10-02T00:00:00",
          "2016-10-18T00:00:00",
          "2016-11-03T00:00:00"
         ],
         "xaxis": "x",
         "y": [
          1,
          1,
          2,
          2,
          2,
          1,
          2,
          4,
          1,
          2,
          3,
          2,
          2,
          2
         ],
         "yaxis": "y"
        },
        {
         "hovertemplate": "City=PARKVILLE<br>Date=%{x}<br>Total Crimes=%{y}<extra></extra>",
         "legendgroup": "PARKVILLE",
         "line": {
          "color": "#ab63fa",
          "dash": "solid"
         },
         "marker": {
          "symbol": "circle"
         },
         "mode": "lines",
         "name": "PARKVILLE",
         "orientation": "v",
         "showlegend": true,
         "type": "scatter",
         "x": [
          "2016-01-27T00:00:00",
          "2016-02-29T00:00:00",
          "2016-03-08T00:00:00",
          "2016-05-26T00:00:00",
          "2016-06-12T00:00:00",
          "2016-07-05T00:00:00"
         ],
         "xaxis": "x",
         "y": [
          2,
          2,
          2,
          4,
          2,
          2
         ],
         "yaxis": "y"
        },
        {
         "hovertemplate": "City=RAYTOWN<br>Date=%{x}<br>Total Crimes=%{y}<extra></extra>",
         "legendgroup": "RAYTOWN",
         "line": {
          "color": "#FFA15A",
          "dash": "solid"
         },
         "marker": {
          "symbol": "circle"
         },
         "mode": "lines",
         "name": "RAYTOWN",
         "orientation": "v",
         "showlegend": true,
         "type": "scatter",
         "x": [
          "2016-02-01T00:00:00",
          "2016-03-04T00:00:00",
          "2016-03-08T00:00:00",
          "2016-04-03T00:00:00",
          "2016-04-24T00:00:00",
          "2016-07-13T00:00:00",
          "2016-08-01T00:00:00",
          "2016-08-04T00:00:00",
          "2016-08-30T00:00:00",
          "2016-09-19T00:00:00",
          "2016-10-04T00:00:00"
         ],
         "xaxis": "x",
         "y": [
          2,
          2,
          2,
          2,
          1,
          2,
          4,
          3,
          3,
          2,
          3
         ],
         "yaxis": "y"
        },
        {
         "hovertemplate": "City=GLADSTONE<br>Date=%{x}<br>Total Crimes=%{y}<extra></extra>",
         "legendgroup": "GLADSTONE",
         "line": {
          "color": "#19d3f3",
          "dash": "solid"
         },
         "marker": {
          "symbol": "circle"
         },
         "mode": "lines",
         "name": "GLADSTONE",
         "orientation": "v",
         "showlegend": true,
         "type": "scatter",
         "x": [
          "2016-02-04T00:00:00",
          "2016-06-10T00:00:00",
          "2016-07-04T00:00:00",
          "2016-07-06T00:00:00",
          "2016-07-09T00:00:00"
         ],
         "xaxis": "x",
         "y": [
          2,
          5,
          2,
          2,
          3
         ],
         "yaxis": "y"
        },
        {
         "hovertemplate": "City=N KANSAS CITY<br>Date=%{x}<br>Total Crimes=%{y}<extra></extra>",
         "legendgroup": "N KANSAS CITY",
         "line": {
          "color": "#FF6692",
          "dash": "solid"
         },
         "marker": {
          "symbol": "circle"
         },
         "mode": "lines",
         "name": "N KANSAS CITY",
         "orientation": "v",
         "showlegend": true,
         "type": "scatter",
         "x": [
          "2016-03-14T00:00:00",
          "2016-04-09T00:00:00",
          "2016-04-11T00:00:00",
          "2016-04-30T00:00:00",
          "2016-07-02T00:00:00",
          "2016-07-20T00:00:00",
          "2016-07-29T00:00:00"
         ],
         "xaxis": "x",
         "y": [
          2,
          2,
          1,
          2,
          2,
          2,
          2
         ],
         "yaxis": "y"
        },
        {
         "hovertemplate": "City=LEAWOOD<br>Date=%{x}<br>Total Crimes=%{y}<extra></extra>",
         "legendgroup": "LEAWOOD",
         "line": {
          "color": "#B6E880",
          "dash": "solid"
         },
         "marker": {
          "symbol": "circle"
         },
         "mode": "lines",
         "name": "LEAWOOD",
         "orientation": "v",
         "showlegend": true,
         "type": "scatter",
         "x": [
          "2016-03-28T00:00:00",
          "2016-04-28T00:00:00",
          "2016-05-15T00:00:00",
          "2016-05-23T00:00:00",
          "2016-07-11T00:00:00",
          "2016-08-19T00:00:00"
         ],
         "xaxis": "x",
         "y": [
          2,
          1,
          2,
          2,
          2,
          5
         ],
         "yaxis": "y"
        },
        {
         "hovertemplate": "City=KEARNEY<br>Date=%{x}<br>Total Crimes=%{y}<extra></extra>",
         "legendgroup": "KEARNEY",
         "line": {
          "color": "#FF97FF",
          "dash": "solid"
         },
         "marker": {
          "symbol": "circle"
         },
         "mode": "lines",
         "name": "KEARNEY",
         "orientation": "v",
         "showlegend": true,
         "type": "scatter",
         "x": [
          "2016-03-31T00:00:00",
          "2016-04-17T00:00:00",
          "2016-04-27T00:00:00",
          "2016-06-04T00:00:00"
         ],
         "xaxis": "x",
         "y": [
          1,
          4,
          4,
          2
         ],
         "yaxis": "y"
        }
       ],
       "layout": {
        "autosize": true,
        "legend": {
         "title": {
          "text": "City"
         },
         "tracegroupgap": 0
        },
        "template": {
         "data": {
          "bar": [
           {
            "error_x": {
             "color": "#2a3f5f"
            },
            "error_y": {
             "color": "#2a3f5f"
            },
            "marker": {
             "line": {
              "color": "#E5ECF6",
              "width": 0.5
             },
             "pattern": {
              "fillmode": "overlay",
              "size": 10,
              "solidity": 0.2
             }
            },
            "type": "bar"
           }
          ],
          "barpolar": [
           {
            "marker": {
             "line": {
              "color": "#E5ECF6",
              "width": 0.5
             },
             "pattern": {
              "fillmode": "overlay",
              "size": 10,
              "solidity": 0.2
             }
            },
            "type": "barpolar"
           }
          ],
          "carpet": [
           {
            "aaxis": {
             "endlinecolor": "#2a3f5f",
             "gridcolor": "white",
             "linecolor": "white",
             "minorgridcolor": "white",
             "startlinecolor": "#2a3f5f"
            },
            "baxis": {
             "endlinecolor": "#2a3f5f",
             "gridcolor": "white",
             "linecolor": "white",
             "minorgridcolor": "white",
             "startlinecolor": "#2a3f5f"
            },
            "type": "carpet"
           }
          ],
          "choropleth": [
           {
            "colorbar": {
             "outlinewidth": 0,
             "ticks": ""
            },
            "type": "choropleth"
           }
          ],
          "contour": [
           {
            "colorbar": {
             "outlinewidth": 0,
             "ticks": ""
            },
            "colorscale": [
             [
              0,
              "#0d0887"
             ],
             [
              0.1111111111111111,
              "#46039f"
             ],
             [
              0.2222222222222222,
              "#7201a8"
             ],
             [
              0.3333333333333333,
              "#9c179e"
             ],
             [
              0.4444444444444444,
              "#bd3786"
             ],
             [
              0.5555555555555556,
              "#d8576b"
             ],
             [
              0.6666666666666666,
              "#ed7953"
             ],
             [
              0.7777777777777778,
              "#fb9f3a"
             ],
             [
              0.8888888888888888,
              "#fdca26"
             ],
             [
              1,
              "#f0f921"
             ]
            ],
            "type": "contour"
           }
          ],
          "contourcarpet": [
           {
            "colorbar": {
             "outlinewidth": 0,
             "ticks": ""
            },
            "type": "contourcarpet"
           }
          ],
          "heatmap": [
           {
            "colorbar": {
             "outlinewidth": 0,
             "ticks": ""
            },
            "colorscale": [
             [
              0,
              "#0d0887"
             ],
             [
              0.1111111111111111,
              "#46039f"
             ],
             [
              0.2222222222222222,
              "#7201a8"
             ],
             [
              0.3333333333333333,
              "#9c179e"
             ],
             [
              0.4444444444444444,
              "#bd3786"
             ],
             [
              0.5555555555555556,
              "#d8576b"
             ],
             [
              0.6666666666666666,
              "#ed7953"
             ],
             [
              0.7777777777777778,
              "#fb9f3a"
             ],
             [
              0.8888888888888888,
              "#fdca26"
             ],
             [
              1,
              "#f0f921"
             ]
            ],
            "type": "heatmap"
           }
          ],
          "heatmapgl": [
           {
            "colorbar": {
             "outlinewidth": 0,
             "ticks": ""
            },
            "colorscale": [
             [
              0,
              "#0d0887"
             ],
             [
              0.1111111111111111,
              "#46039f"
             ],
             [
              0.2222222222222222,
              "#7201a8"
             ],
             [
              0.3333333333333333,
              "#9c179e"
             ],
             [
              0.4444444444444444,
              "#bd3786"
             ],
             [
              0.5555555555555556,
              "#d8576b"
             ],
             [
              0.6666666666666666,
              "#ed7953"
             ],
             [
              0.7777777777777778,
              "#fb9f3a"
             ],
             [
              0.8888888888888888,
              "#fdca26"
             ],
             [
              1,
              "#f0f921"
             ]
            ],
            "type": "heatmapgl"
           }
          ],
          "histogram": [
           {
            "marker": {
             "pattern": {
              "fillmode": "overlay",
              "size": 10,
              "solidity": 0.2
             }
            },
            "type": "histogram"
           }
          ],
          "histogram2d": [
           {
            "colorbar": {
             "outlinewidth": 0,
             "ticks": ""
            },
            "colorscale": [
             [
              0,
              "#0d0887"
             ],
             [
              0.1111111111111111,
              "#46039f"
             ],
             [
              0.2222222222222222,
              "#7201a8"
             ],
             [
              0.3333333333333333,
              "#9c179e"
             ],
             [
              0.4444444444444444,
              "#bd3786"
             ],
             [
              0.5555555555555556,
              "#d8576b"
             ],
             [
              0.6666666666666666,
              "#ed7953"
             ],
             [
              0.7777777777777778,
              "#fb9f3a"
             ],
             [
              0.8888888888888888,
              "#fdca26"
             ],
             [
              1,
              "#f0f921"
             ]
            ],
            "type": "histogram2d"
           }
          ],
          "histogram2dcontour": [
           {
            "colorbar": {
             "outlinewidth": 0,
             "ticks": ""
            },
            "colorscale": [
             [
              0,
              "#0d0887"
             ],
             [
              0.1111111111111111,
              "#46039f"
             ],
             [
              0.2222222222222222,
              "#7201a8"
             ],
             [
              0.3333333333333333,
              "#9c179e"
             ],
             [
              0.4444444444444444,
              "#bd3786"
             ],
             [
              0.5555555555555556,
              "#d8576b"
             ],
             [
              0.6666666666666666,
              "#ed7953"
             ],
             [
              0.7777777777777778,
              "#fb9f3a"
             ],
             [
              0.8888888888888888,
              "#fdca26"
             ],
             [
              1,
              "#f0f921"
             ]
            ],
            "type": "histogram2dcontour"
           }
          ],
          "mesh3d": [
           {
            "colorbar": {
             "outlinewidth": 0,
             "ticks": ""
            },
            "type": "mesh3d"
           }
          ],
          "parcoords": [
           {
            "line": {
             "colorbar": {
              "outlinewidth": 0,
              "ticks": ""
             }
            },
            "type": "parcoords"
           }
          ],
          "pie": [
           {
            "automargin": true,
            "type": "pie"
           }
          ],
          "scatter": [
           {
            "fillpattern": {
             "fillmode": "overlay",
             "size": 10,
             "solidity": 0.2
            },
            "type": "scatter"
           }
          ],
          "scatter3d": [
           {
            "line": {
             "colorbar": {
              "outlinewidth": 0,
              "ticks": ""
             }
            },
            "marker": {
             "colorbar": {
              "outlinewidth": 0,
              "ticks": ""
             }
            },
            "type": "scatter3d"
           }
          ],
          "scattercarpet": [
           {
            "marker": {
             "colorbar": {
              "outlinewidth": 0,
              "ticks": ""
             }
            },
            "type": "scattercarpet"
           }
          ],
          "scattergeo": [
           {
            "marker": {
             "colorbar": {
              "outlinewidth": 0,
              "ticks": ""
             }
            },
            "type": "scattergeo"
           }
          ],
          "scattergl": [
           {
            "marker": {
             "colorbar": {
              "outlinewidth": 0,
              "ticks": ""
             }
            },
            "type": "scattergl"
           }
          ],
          "scattermapbox": [
           {
            "marker": {
             "colorbar": {
              "outlinewidth": 0,
              "ticks": ""
             }
            },
            "type": "scattermapbox"
           }
          ],
          "scatterpolar": [
           {
            "marker": {
             "colorbar": {
              "outlinewidth": 0,
              "ticks": ""
             }
            },
            "type": "scatterpolar"
           }
          ],
          "scatterpolargl": [
           {
            "marker": {
             "colorbar": {
              "outlinewidth": 0,
              "ticks": ""
             }
            },
            "type": "scatterpolargl"
           }
          ],
          "scatterternary": [
           {
            "marker": {
             "colorbar": {
              "outlinewidth": 0,
              "ticks": ""
             }
            },
            "type": "scatterternary"
           }
          ],
          "surface": [
           {
            "colorbar": {
             "outlinewidth": 0,
             "ticks": ""
            },
            "colorscale": [
             [
              0,
              "#0d0887"
             ],
             [
              0.1111111111111111,
              "#46039f"
             ],
             [
              0.2222222222222222,
              "#7201a8"
             ],
             [
              0.3333333333333333,
              "#9c179e"
             ],
             [
              0.4444444444444444,
              "#bd3786"
             ],
             [
              0.5555555555555556,
              "#d8576b"
             ],
             [
              0.6666666666666666,
              "#ed7953"
             ],
             [
              0.7777777777777778,
              "#fb9f3a"
             ],
             [
              0.8888888888888888,
              "#fdca26"
             ],
             [
              1,
              "#f0f921"
             ]
            ],
            "type": "surface"
           }
          ],
          "table": [
           {
            "cells": {
             "fill": {
              "color": "#EBF0F8"
             },
             "line": {
              "color": "white"
             }
            },
            "header": {
             "fill": {
              "color": "#C8D4E3"
             },
             "line": {
              "color": "white"
             }
            },
            "type": "table"
           }
          ]
         },
         "layout": {
          "annotationdefaults": {
           "arrowcolor": "#2a3f5f",
           "arrowhead": 0,
           "arrowwidth": 1
          },
          "autotypenumbers": "strict",
          "coloraxis": {
           "colorbar": {
            "outlinewidth": 0,
            "ticks": ""
           }
          },
          "colorscale": {
           "diverging": [
            [
             0,
             "#8e0152"
            ],
            [
             0.1,
             "#c51b7d"
            ],
            [
             0.2,
             "#de77ae"
            ],
            [
             0.3,
             "#f1b6da"
            ],
            [
             0.4,
             "#fde0ef"
            ],
            [
             0.5,
             "#f7f7f7"
            ],
            [
             0.6,
             "#e6f5d0"
            ],
            [
             0.7,
             "#b8e186"
            ],
            [
             0.8,
             "#7fbc41"
            ],
            [
             0.9,
             "#4d9221"
            ],
            [
             1,
             "#276419"
            ]
           ],
           "sequential": [
            [
             0,
             "#0d0887"
            ],
            [
             0.1111111111111111,
             "#46039f"
            ],
            [
             0.2222222222222222,
             "#7201a8"
            ],
            [
             0.3333333333333333,
             "#9c179e"
            ],
            [
             0.4444444444444444,
             "#bd3786"
            ],
            [
             0.5555555555555556,
             "#d8576b"
            ],
            [
             0.6666666666666666,
             "#ed7953"
            ],
            [
             0.7777777777777778,
             "#fb9f3a"
            ],
            [
             0.8888888888888888,
             "#fdca26"
            ],
            [
             1,
             "#f0f921"
            ]
           ],
           "sequentialminus": [
            [
             0,
             "#0d0887"
            ],
            [
             0.1111111111111111,
             "#46039f"
            ],
            [
             0.2222222222222222,
             "#7201a8"
            ],
            [
             0.3333333333333333,
             "#9c179e"
            ],
            [
             0.4444444444444444,
             "#bd3786"
            ],
            [
             0.5555555555555556,
             "#d8576b"
            ],
            [
             0.6666666666666666,
             "#ed7953"
            ],
            [
             0.7777777777777778,
             "#fb9f3a"
            ],
            [
             0.8888888888888888,
             "#fdca26"
            ],
            [
             1,
             "#f0f921"
            ]
           ]
          },
          "colorway": [
           "#636efa",
           "#EF553B",
           "#00cc96",
           "#ab63fa",
           "#FFA15A",
           "#19d3f3",
           "#FF6692",
           "#B6E880",
           "#FF97FF",
           "#FECB52"
          ],
          "font": {
           "color": "#2a3f5f"
          },
          "geo": {
           "bgcolor": "white",
           "lakecolor": "white",
           "landcolor": "#E5ECF6",
           "showlakes": true,
           "showland": true,
           "subunitcolor": "white"
          },
          "hoverlabel": {
           "align": "left"
          },
          "hovermode": "closest",
          "mapbox": {
           "style": "light"
          },
          "paper_bgcolor": "white",
          "plot_bgcolor": "#E5ECF6",
          "polar": {
           "angularaxis": {
            "gridcolor": "white",
            "linecolor": "white",
            "ticks": ""
           },
           "bgcolor": "#E5ECF6",
           "radialaxis": {
            "gridcolor": "white",
            "linecolor": "white",
            "ticks": ""
           }
          },
          "scene": {
           "xaxis": {
            "backgroundcolor": "#E5ECF6",
            "gridcolor": "white",
            "gridwidth": 2,
            "linecolor": "white",
            "showbackground": true,
            "ticks": "",
            "zerolinecolor": "white"
           },
           "yaxis": {
            "backgroundcolor": "#E5ECF6",
            "gridcolor": "white",
            "gridwidth": 2,
            "linecolor": "white",
            "showbackground": true,
            "ticks": "",
            "zerolinecolor": "white"
           },
           "zaxis": {
            "backgroundcolor": "#E5ECF6",
            "gridcolor": "white",
            "gridwidth": 2,
            "linecolor": "white",
            "showbackground": true,
            "ticks": "",
            "zerolinecolor": "white"
           }
          },
          "shapedefaults": {
           "line": {
            "color": "#2a3f5f"
           }
          },
          "ternary": {
           "aaxis": {
            "gridcolor": "white",
            "linecolor": "white",
            "ticks": ""
           },
           "baxis": {
            "gridcolor": "white",
            "linecolor": "white",
            "ticks": ""
           },
           "bgcolor": "#E5ECF6",
           "caxis": {
            "gridcolor": "white",
            "linecolor": "white",
            "ticks": ""
           }
          },
          "title": {
           "x": 0.05
          },
          "xaxis": {
           "automargin": true,
           "gridcolor": "white",
           "linecolor": "white",
           "ticks": "",
           "title": {
            "standoff": 15
           },
           "zerolinecolor": "white",
           "zerolinewidth": 2
          },
          "yaxis": {
           "automargin": true,
           "gridcolor": "white",
           "linecolor": "white",
           "ticks": "",
           "title": {
            "standoff": 15
           },
           "zerolinecolor": "white",
           "zerolinewidth": 2
          }
         }
        },
        "title": {
         "text": "Daily Crime Counts in Top 09 Cities (excluding Kansas City)"
        },
        "xaxis": {
         "anchor": "y",
         "autorange": true,
         "domain": [
          0,
          1
         ],
         "range": [
          "2016-01-01",
          "2016-11-03"
         ],
         "title": {
          "text": "Date"
         },
         "type": "date"
        },
        "yaxis": {
         "anchor": "x",
         "autorange": true,
         "domain": [
          0,
          1
         ],
         "range": [
          0.5555555555555556,
          9.444444444444445
         ],
         "title": {
          "text": "Total Crimes"
         },
         "type": "linear"
        }
       }
      },
      "image/png": "[encoded data removed]",
      "text/html": [
       "<div>                            <div id=\"78fbfb72-43a9-429a-afc6-581a19640ff9\" class=\"plotly-graph-div\" style=\"height:525px; width:100%;\"></div>            <script type=\"text/javascript\">                require([\"plotly\"], function(Plotly) {                    window.PLOTLYENV=window.PLOTLYENV || {};                                    if (document.getElementById(\"78fbfb72-43a9-429a-afc6-581a19640ff9\")) {                    Plotly.newPlot(                        \"78fbfb72-43a9-429a-afc6-581a19640ff9\",                        [{\"hovertemplate\":\"City=KCMO<br>Date=%{x}<br>Total Crimes=%{y}<extra></extra>\",\"legendgroup\":\"KCMO\",\"line\":{\"color\":\"#636efa\",\"dash\":\"solid\"},\"marker\":{\"symbol\":\"circle\"},\"mode\":\"lines\",\"name\":\"KCMO\",\"orientation\":\"v\",\"showlegend\":true,\"x\":[\"2016-01-01T00:00:00\",\"2016-01-02T00:00:00\",\"2016-01-25T00:00:00\",\"2016-01-26T00:00:00\",\"2016-01-27T00:00:00\",\"2016-02-01T00:00:00\",\"2016-02-02T00:00:00\",\"2016-02-16T00:00:00\",\"2016-02-18T00:00:00\",\"2016-02-20T00:00:00\",\"2016-02-25T00:00:00\",\"2016-02-26T00:00:00\",\"2016-03-09T00:00:00\",\"2016-03-20T00:00:00\",\"2016-03-21T00:00:00\",\"2016-03-22T00:00:00\",\"2016-03-23T00:00:00\",\"2016-03-24T00:00:00\",\"2016-03-25T00:00:00\",\"2016-03-31T00:00:00\",\"2016-04-04T00:00:00\",\"2016-04-05T00:00:00\",\"2016-04-07T00:00:00\",\"2016-04-09T00:00:00\",\"2016-04-14T00:00:00\",\"2016-04-15T00:00:00\",\"2016-05-03T00:00:00\",\"2016-05-09T00:00:00\",\"2016-05-10T00:00:00\",\"2016-05-11T00:00:00\",\"2016-05-12T00:00:00\",\"2016-05-13T00:00:00\",\"2016-05-22T00:00:00\",\"2016-05-24T00:00:00\",\"2016-05-26T00:00:00\",\"2016-05-31T00:00:00\",\"2016-06-04T00:00:00\",\"2016-06-06T00:00:00\",\"2016-06-13T00:00:00\",\"2016-06-14T00:00:00\",\"2016-06-19T00:00:00\",\"2016-06-24T00:00:00\",\"2016-07-13T00:00:00\",\"2016-07-23T00:00:00\",\"2016-07-24T00:00:00\",\"2016-08-01T00:00:00\",\"2016-08-03T00:00:00\",\"2016-08-07T00:00:00\",\"2016-08-09T00:00:00\",\"2016-08-16T00:00:00\",\"2016-09-01T00:00:00\",\"2016-09-02T00:00:00\",\"2016-09-24T00:00:00\",\"2016-09-25T00:00:00\",\"2016-10-01T00:00:00\",\"2016-10-04T00:00:00\",\"2016-10-05T00:00:00\",\"2016-10-10T00:00:00\",\"2016-10-15T00:00:00\",\"2016-10-16T00:00:00\",\"2016-10-17T00:00:00\",\"2016-10-19T00:00:00\"],\"xaxis\":\"x\",\"y\":[2,4,2,1,4,2,2,2,4,2,2,6,2,4,4,4,2,8,3,9,3,2,2,2,9,2,5,2,2,6,2,2,3,2,4,2,2,6,2,5,3,3,2,2,2,4,1,2,2,2,2,2,2,2,2,2,2,2,2,2,3,2],\"yaxis\":\"y\",\"type\":\"scatter\"},{\"hovertemplate\":\"City=INDEPENDENCE<br>Date=%{x}<br>Total Crimes=%{y}<extra></extra>\",\"legendgroup\":\"INDEPENDENCE\",\"line\":{\"color\":\"#EF553B\",\"dash\":\"solid\"},\"marker\":{\"symbol\":\"circle\"},\"mode\":\"lines\",\"name\":\"INDEPENDENCE\",\"orientation\":\"v\",\"showlegend\":true,\"x\":[\"2016-01-02T00:00:00\",\"2016-01-08T00:00:00\",\"2016-01-10T00:00:00\",\"2016-01-13T00:00:00\",\"2016-01-27T00:00:00\",\"2016-01-29T00:00:00\",\"2016-01-30T00:00:00\",\"2016-01-31T00:00:00\",\"2016-02-15T00:00:00\",\"2016-02-19T00:00:00\",\"2016-03-04T00:00:00\",\"2016-03-07T00:00:00\",\"2016-03-09T00:00:00\",\"2016-03-11T00:00:00\",\"2016-03-17T00:00:00\",\"2016-03-21T00:00:00\",\"2016-03-22T00:00:00\",\"2016-03-23T00:00:00\",\"2016-03-27T00:00:00\",\"2016-04-01T00:00:00\",\"2016-04-10T00:00:00\",\"2016-04-17T00:00:00\",\"2016-04-19T00:00:00\",\"2016-04-20T00:00:00\",\"2016-04-23T00:00:00\",\"2016-05-02T00:00:00\",\"2016-05-06T00:00:00\",\"2016-05-07T00:00:00\",\"2016-05-08T00:00:00\",\"2016-05-25T00:00:00\",\"2016-05-26T00:00:00\",\"2016-06-08T00:00:00\",\"2016-06-26T00:00:00\",\"2016-07-26T00:00:00\",\"2016-07-28T00:00:00\",\"2016-07-29T00:00:00\",\"2016-08-15T00:00:00\",\"2016-08-17T00:00:00\",\"2016-08-19T00:00:00\",\"2016-08-20T00:00:00\",\"2016-08-21T00:00:00\",\"2016-08-24T00:00:00\",\"2016-08-28T00:00:00\",\"2016-08-29T00:00:00\",\"2016-09-01T00:00:00\",\"2016-09-03T00:00:00\",\"2016-09-13T00:00:00\",\"2016-09-18T00:00:00\",\"2016-09-25T00:00:00\",\"2016-09-27T00:00:00\",\"2016-09-30T00:00:00\",\"2016-10-22T00:00:00\",\"2016-10-28T00:00:00\",\"2016-11-01T00:00:00\"],\"xaxis\":\"x\",\"y\":[4,2,4,2,2,4,2,2,6,4,2,2,2,2,3,2,4,2,2,2,2,2,3,2,3,2,3,4,2,2,1,2,2,2,8,2,2,3,3,6,2,2,2,2,2,2,6,1,2,9,6,2,3,4],\"yaxis\":\"y\",\"type\":\"scatter\"},{\"hovertemplate\":\"City=GRANDVIEW<br>Date=%{x}<br>Total Crimes=%{y}<extra></extra>\",\"legendgroup\":\"GRANDVIEW\",\"line\":{\"color\":\"#00cc96\",\"dash\":\"solid\"},\"marker\":{\"symbol\":\"circle\"},\"mode\":\"lines\",\"name\":\"GRANDVIEW\",\"orientation\":\"v\",\"showlegend\":true,\"x\":[\"2016-01-11T00:00:00\",\"2016-01-25T00:00:00\",\"2016-02-06T00:00:00\",\"2016-02-14T00:00:00\",\"2016-03-12T00:00:00\",\"2016-03-29T00:00:00\",\"2016-06-10T00:00:00\",\"2016-07-10T00:00:00\",\"2016-07-13T00:00:00\",\"2016-09-01T00:00:00\",\"2016-09-26T00:00:00\",\"2016-10-02T00:00:00\",\"2016-10-18T00:00:00\",\"2016-11-03T00:00:00\"],\"xaxis\":\"x\",\"y\":[1,1,2,2,2,1,2,4,1,2,3,2,2,2],\"yaxis\":\"y\",\"type\":\"scatter\"},{\"hovertemplate\":\"City=PARKVILLE<br>Date=%{x}<br>Total Crimes=%{y}<extra></extra>\",\"legendgroup\":\"PARKVILLE\",\"line\":{\"color\":\"#ab63fa\",\"dash\":\"solid\"},\"marker\":{\"symbol\":\"circle\"},\"mode\":\"lines\",\"name\":\"PARKVILLE\",\"orientation\":\"v\",\"showlegend\":true,\"x\":[\"2016-01-27T00:00:00\",\"2016-02-29T00:00:00\",\"2016-03-08T00:00:00\",\"2016-05-26T00:00:00\",\"2016-06-12T00:00:00\",\"2016-07-05T00:00:00\"],\"xaxis\":\"x\",\"y\":[2,2,2,4,2,2],\"yaxis\":\"y\",\"type\":\"scatter\"},{\"hovertemplate\":\"City=RAYTOWN<br>Date=%{x}<br>Total Crimes=%{y}<extra></extra>\",\"legendgroup\":\"RAYTOWN\",\"line\":{\"color\":\"#FFA15A\",\"dash\":\"solid\"},\"marker\":{\"symbol\":\"circle\"},\"mode\":\"lines\",\"name\":\"RAYTOWN\",\"orientation\":\"v\",\"showlegend\":true,\"x\":[\"2016-02-01T00:00:00\",\"2016-03-04T00:00:00\",\"2016-03-08T00:00:00\",\"2016-04-03T00:00:00\",\"2016-04-24T00:00:00\",\"2016-07-13T00:00:00\",\"2016-08-01T00:00:00\",\"2016-08-04T00:00:00\",\"2016-08-30T00:00:00\",\"2016-09-19T00:00:00\",\"2016-10-04T00:00:00\"],\"xaxis\":\"x\",\"y\":[2,2,2,2,1,2,4,3,3,2,3],\"yaxis\":\"y\",\"type\":\"scatter\"},{\"hovertemplate\":\"City=GLADSTONE<br>Date=%{x}<br>Total Crimes=%{y}<extra></extra>\",\"legendgroup\":\"GLADSTONE\",\"line\":{\"color\":\"#19d3f3\",\"dash\":\"solid\"},\"marker\":{\"symbol\":\"circle\"},\"mode\":\"lines\",\"name\":\"GLADSTONE\",\"orientation\":\"v\",\"showlegend\":true,\"x\":[\"2016-02-04T00:00:00\",\"2016-06-10T00:00:00\",\"2016-07-04T00:00:00\",\"2016-07-06T00:00:00\",\"2016-07-09T00:00:00\"],\"xaxis\":\"x\",\"y\":[2,5,2,2,3],\"yaxis\":\"y\",\"type\":\"scatter\"},{\"hovertemplate\":\"City=N KANSAS CITY<br>Date=%{x}<br>Total Crimes=%{y}<extra></extra>\",\"legendgroup\":\"N KANSAS CITY\",\"line\":{\"color\":\"#FF6692\",\"dash\":\"solid\"},\"marker\":{\"symbol\":\"circle\"},\"mode\":\"lines\",\"name\":\"N KANSAS CITY\",\"orientation\":\"v\",\"showlegend\":true,\"x\":[\"2016-03-14T00:00:00\",\"2016-04-09T00:00:00\",\"2016-04-11T00:00:00\",\"2016-04-30T00:00:00\",\"2016-07-02T00:00:00\",\"2016-07-20T00:00:00\",\"2016-07-29T00:00:00\"],\"xaxis\":\"x\",\"y\":[2,2,1,2,2,2,2],\"yaxis\":\"y\",\"type\":\"scatter\"},{\"hovertemplate\":\"City=LEAWOOD<br>Date=%{x}<br>Total Crimes=%{y}<extra></extra>\",\"legendgroup\":\"LEAWOOD\",\"line\":{\"color\":\"#B6E880\",\"dash\":\"solid\"},\"marker\":{\"symbol\":\"circle\"},\"mode\":\"lines\",\"name\":\"LEAWOOD\",\"orientation\":\"v\",\"showlegend\":true,\"x\":[\"2016-03-28T00:00:00\",\"2016-04-28T00:00:00\",\"2016-05-15T00:00:00\",\"2016-05-23T00:00:00\",\"2016-07-11T00:00:00\",\"2016-08-19T00:00:00\"],\"xaxis\":\"x\",\"y\":[2,1,2,2,2,5],\"yaxis\":\"y\",\"type\":\"scatter\"},{\"hovertemplate\":\"City=KEARNEY<br>Date=%{x}<br>Total Crimes=%{y}<extra></extra>\",\"legendgroup\":\"KEARNEY\",\"line\":{\"color\":\"#FF97FF\",\"dash\":\"solid\"},\"marker\":{\"symbol\":\"circle\"},\"mode\":\"lines\",\"name\":\"KEARNEY\",\"orientation\":\"v\",\"showlegend\":true,\"x\":[\"2016-03-31T00:00:00\",\"2016-04-17T00:00:00\",\"2016-04-27T00:00:00\",\"2016-06-04T00:00:00\"],\"xaxis\":\"x\",\"y\":[1,4,4,2],\"yaxis\":\"y\",\"type\":\"scatter\"}],                        {\"template\":{\"data\":{\"histogram2dcontour\":[{\"type\":\"histogram2dcontour\",\"colorbar\":{\"outlinewidth\":0,\"ticks\":\"\"},\"colorscale\":[[0.0,\"#0d0887\"],[0.1111111111111111,\"#46039f\"],[0.2222222222222222,\"#7201a8\"],[0.3333333333333333,\"#9c179e\"],[0.4444444444444444,\"#bd3786\"],[0.5555555555555556,\"#d8576b\"],[0.6666666666666666,\"#ed7953\"],[0.7777777777777778,\"#fb9f3a\"],[0.8888888888888888,\"#fdca26\"],[1.0,\"#f0f921\"]]}],\"choropleth\":[{\"type\":\"choropleth\",\"colorbar\":{\"outlinewidth\":0,\"ticks\":\"\"}}],\"histogram2d\":[{\"type\":\"histogram2d\",\"colorbar\":{\"outlinewidth\":0,\"ticks\":\"\"},\"colorscale\":[[0.0,\"#0d0887\"],[0.1111111111111111,\"#46039f\"],[0.2222222222222222,\"#7201a8\"],[0.3333333333333333,\"#9c179e\"],[0.4444444444444444,\"#bd3786\"],[0.5555555555555556,\"#d8576b\"],[0.6666666666666666,\"#ed7953\"],[0.7777777777777778,\"#fb9f3a\"],[0.8888888888888888,\"#fdca26\"],[1.0,\"#f0f921\"]]}],\"heatmap\":[{\"type\":\"heatmap\",\"colorbar\":{\"outlinewidth\":0,\"ticks\":\"\"},\"colorscale\":[[0.0,\"#0d0887\"],[0.1111111111111111,\"#46039f\"],[0.2222222222222222,\"#7201a8\"],[0.3333333333333333,\"#9c179e\"],[0.4444444444444444,\"#bd3786\"],[0.5555555555555556,\"#d8576b\"],[0.6666666666666666,\"#ed7953\"],[0.7777777777777778,\"#fb9f3a\"],[0.8888888888888888,\"#fdca26\"],[1.0,\"#f0f921\"]]}],\"heatmapgl\":[{\"type\":\"heatmapgl\",\"colorbar\":{\"outlinewidth\":0,\"ticks\":\"\"},\"colorscale\":[[0.0,\"#0d0887\"],[0.1111111111111111,\"#46039f\"],[0.2222222222222222,\"#7201a8\"],[0.3333333333333333,\"#9c179e\"],[0.4444444444444444,\"#bd3786\"],[0.5555555555555556,\"#d8576b\"],[0.6666666666666666,\"#ed7953\"],[0.7777777777777778,\"#fb9f3a\"],[0.8888888888888888,\"#fdca26\"],[1.0,\"#f0f921\"]]}],\"contourcarpet\":[{\"type\":\"contourcarpet\",\"colorbar\":{\"outlinewidth\":0,\"ticks\":\"\"}}],\"contour\":[{\"type\":\"contour\",\"colorbar\":{\"outlinewidth\":0,\"ticks\":\"\"},\"colorscale\":[[0.0,\"#0d0887\"],[0.1111111111111111,\"#46039f\"],[0.2222222222222222,\"#7201a8\"],[0.3333333333333333,\"#9c179e\"],[0.4444444444444444,\"#bd3786\"],[0.5555555555555556,\"#d8576b\"],[0.6666666666666666,\"#ed7953\"],[0.7777777777777778,\"#fb9f3a\"],[0.8888888888888888,\"#fdca26\"],[1.0,\"#f0f921\"]]}],\"surface\":[{\"type\":\"surface\",\"colorbar\":{\"outlinewidth\":0,\"ticks\":\"\"},\"colorscale\":[[0.0,\"#0d0887\"],[0.1111111111111111,\"#46039f\"],[0.2222222222222222,\"#7201a8\"],[0.3333333333333333,\"#9c179e\"],[0.4444444444444444,\"#bd3786\"],[0.5555555555555556,\"#d8576b\"],[0.6666666666666666,\"#ed7953\"],[0.7777777777777778,\"#fb9f3a\"],[0.8888888888888888,\"#fdca26\"],[1.0,\"#f0f921\"]]}],\"mesh3d\":[{\"type\":\"mesh3d\",\"colorbar\":{\"outlinewidth\":0,\"ticks\":\"\"}}],\"scatter\":[{\"fillpattern\":{\"fillmode\":\"overlay\",\"size\":10,\"solidity\":0.2},\"type\":\"scatter\"}],\"parcoords\":[{\"type\":\"parcoords\",\"line\":{\"colorbar\":{\"outlinewidth\":0,\"ticks\":\"\"}}}],\"scatterpolargl\":[{\"type\":\"scatterpolargl\",\"marker\":{\"colorbar\":{\"outlinewidth\":0,\"ticks\":\"\"}}}],\"bar\":[{\"error_x\":{\"color\":\"#2a3f5f\"},\"error_y\":{\"color\":\"#2a3f5f\"},\"marker\":{\"line\":{\"color\":\"#E5ECF6\",\"width\":0.5},\"pattern\":{\"fillmode\":\"overlay\",\"size\":10,\"solidity\":0.2}},\"type\":\"bar\"}],\"scattergeo\":[{\"type\":\"scattergeo\",\"marker\":{\"colorbar\":{\"outlinewidth\":0,\"ticks\":\"\"}}}],\"scatterpolar\":[{\"type\":\"scatterpolar\",\"marker\":{\"colorbar\":{\"outlinewidth\":0,\"ticks\":\"\"}}}],\"histogram\":[{\"marker\":{\"pattern\":{\"fillmode\":\"overlay\",\"size\":10,\"solidity\":0.2}},\"type\":\"histogram\"}],\"scattergl\":[{\"type\":\"scattergl\",\"marker\":{\"colorbar\":{\"outlinewidth\":0,\"ticks\":\"\"}}}],\"scatter3d\":[{\"type\":\"scatter3d\",\"line\":{\"colorbar\":{\"outlinewidth\":0,\"ticks\":\"\"}},\"marker\":{\"colorbar\":{\"outlinewidth\":0,\"ticks\":\"\"}}}],\"scattermapbox\":[{\"type\":\"scattermapbox\",\"marker\":{\"colorbar\":{\"outlinewidth\":0,\"ticks\":\"\"}}}],\"scatterternary\":[{\"type\":\"scatterternary\",\"marker\":{\"colorbar\":{\"outlinewidth\":0,\"ticks\":\"\"}}}],\"scattercarpet\":[{\"type\":\"scattercarpet\",\"marker\":{\"colorbar\":{\"outlinewidth\":0,\"ticks\":\"\"}}}],\"carpet\":[{\"aaxis\":{\"endlinecolor\":\"#2a3f5f\",\"gridcolor\":\"white\",\"linecolor\":\"white\",\"minorgridcolor\":\"white\",\"startlinecolor\":\"#2a3f5f\"},\"baxis\":{\"endlinecolor\":\"#2a3f5f\",\"gridcolor\":\"white\",\"linecolor\":\"white\",\"minorgridcolor\":\"white\",\"startlinecolor\":\"#2a3f5f\"},\"type\":\"carpet\"}],\"table\":[{\"cells\":{\"fill\":{\"color\":\"#EBF0F8\"},\"line\":{\"color\":\"white\"}},\"header\":{\"fill\":{\"color\":\"#C8D4E3\"},\"line\":{\"color\":\"white\"}},\"type\":\"table\"}],\"barpolar\":[{\"marker\":{\"line\":{\"color\":\"#E5ECF6\",\"width\":0.5},\"pattern\":{\"fillmode\":\"overlay\",\"size\":10,\"solidity\":0.2}},\"type\":\"barpolar\"}],\"pie\":[{\"automargin\":true,\"type\":\"pie\"}]},\"layout\":{\"autotypenumbers\":\"strict\",\"colorway\":[\"#636efa\",\"#EF553B\",\"#00cc96\",\"#ab63fa\",\"#FFA15A\",\"#19d3f3\",\"#FF6692\",\"#B6E880\",\"#FF97FF\",\"#FECB52\"],\"font\":{\"color\":\"#2a3f5f\"},\"hovermode\":\"closest\",\"hoverlabel\":{\"align\":\"left\"},\"paper_bgcolor\":\"white\",\"plot_bgcolor\":\"#E5ECF6\",\"polar\":{\"bgcolor\":\"#E5ECF6\",\"angularaxis\":{\"gridcolor\":\"white\",\"linecolor\":\"white\",\"ticks\":\"\"},\"radialaxis\":{\"gridcolor\":\"white\",\"linecolor\":\"white\",\"ticks\":\"\"}},\"ternary\":{\"bgcolor\":\"#E5ECF6\",\"aaxis\":{\"gridcolor\":\"white\",\"linecolor\":\"white\",\"ticks\":\"\"},\"baxis\":{\"gridcolor\":\"white\",\"linecolor\":\"white\",\"ticks\":\"\"},\"caxis\":{\"gridcolor\":\"white\",\"linecolor\":\"white\",\"ticks\":\"\"}},\"coloraxis\":{\"colorbar\":{\"outlinewidth\":0,\"ticks\":\"\"}},\"colorscale\":{\"sequential\":[[0.0,\"#0d0887\"],[0.1111111111111111,\"#46039f\"],[0.2222222222222222,\"#7201a8\"],[0.3333333333333333,\"#9c179e\"],[0.4444444444444444,\"#bd3786\"],[0.5555555555555556,\"#d8576b\"],[0.6666666666666666,\"#ed7953\"],[0.7777777777777778,\"#fb9f3a\"],[0.8888888888888888,\"#fdca26\"],[1.0,\"#f0f921\"]],\"sequentialminus\":[[0.0,\"#0d0887\"],[0.1111111111111111,\"#46039f\"],[0.2222222222222222,\"#7201a8\"],[0.3333333333333333,\"#9c179e\"],[0.4444444444444444,\"#bd3786\"],[0.5555555555555556,\"#d8576b\"],[0.6666666666666666,\"#ed7953\"],[0.7777777777777778,\"#fb9f3a\"],[0.8888888888888888,\"#fdca26\"],[1.0,\"#f0f921\"]],\"diverging\":[[0,\"#8e0152\"],[0.1,\"#c51b7d\"],[0.2,\"#de77ae\"],[0.3,\"#f1b6da\"],[0.4,\"#fde0ef\"],[0.5,\"#f7f7f7\"],[0.6,\"#e6f5d0\"],[0.7,\"#b8e186\"],[0.8,\"#7fbc41\"],[0.9,\"#4d9221\"],[1,\"#276419\"]]},\"xaxis\":{\"gridcolor\":\"white\",\"linecolor\":\"white\",\"ticks\":\"\",\"title\":{\"standoff\":15},\"zerolinecolor\":\"white\",\"automargin\":true,\"zerolinewidth\":2},\"yaxis\":{\"gridcolor\":\"white\",\"linecolor\":\"white\",\"ticks\":\"\",\"title\":{\"standoff\":15},\"zerolinecolor\":\"white\",\"automargin\":true,\"zerolinewidth\":2},\"scene\":{\"xaxis\":{\"backgroundcolor\":\"#E5ECF6\",\"gridcolor\":\"white\",\"linecolor\":\"white\",\"showbackground\":true,\"ticks\":\"\",\"zerolinecolor\":\"white\",\"gridwidth\":2},\"yaxis\":{\"backgroundcolor\":\"#E5ECF6\",\"gridcolor\":\"white\",\"linecolor\":\"white\",\"showbackground\":true,\"ticks\":\"\",\"zerolinecolor\":\"white\",\"gridwidth\":2},\"zaxis\":{\"backgroundcolor\":\"#E5ECF6\",\"gridcolor\":\"white\",\"linecolor\":\"white\",\"showbackground\":true,\"ticks\":\"\",\"zerolinecolor\":\"white\",\"gridwidth\":2}},\"shapedefaults\":{\"line\":{\"color\":\"#2a3f5f\"}},\"annotationdefaults\":{\"arrowcolor\":\"#2a3f5f\",\"arrowhead\":0,\"arrowwidth\":1},\"geo\":{\"bgcolor\":\"white\",\"landcolor\":\"#E5ECF6\",\"subunitcolor\":\"white\",\"showland\":true,\"showlakes\":true,\"lakecolor\":\"white\"},\"title\":{\"x\":0.05},\"mapbox\":{\"style\":\"light\"}}},\"xaxis\":{\"anchor\":\"y\",\"domain\":[0.0,1.0],\"title\":{\"text\":\"Date\"}},\"yaxis\":{\"anchor\":\"x\",\"domain\":[0.0,1.0],\"title\":{\"text\":\"Total Crimes\"}},\"legend\":{\"title\":{\"text\":\"City\"},\"tracegroupgap\":0},\"title\":{\"text\":\"Daily Crime Counts in Top 09 Cities (excluding Kansas City)\"}},                        {\"responsive\": true}                    ).then(function(){\n",
       "                            \n",
       "var gd = document.getElementById('78fbfb72-43a9-429a-afc6-581a19640ff9');\n",
       "var x = new MutationObserver(function (mutations, observer) {{\n",
       "        var display = window.getComputedStyle(gd).display;\n",
       "        if (!display || display === 'none') {{\n",
       "            console.log([gd, 'removed!']);\n",
       "            Plotly.purge(gd);\n",
       "            observer.disconnect();\n",
       "        }}\n",
       "}});\n",
       "\n",
       "// Listen for the removal of the full notebook cells\n",
       "var notebookContainer = gd.closest('#notebook-container');\n",
       "if (notebookContainer) {{\n",
       "    x.observe(notebookContainer, {childList: true});\n",
       "}}\n",
       "\n",
       "// Listen for the clearing of the current output cell\n",
       "var outputEl = gd.closest('.output');\n",
       "if (outputEl) {{\n",
       "    x.observe(outputEl, {childList: true});\n",
       "}}\n",
       "\n",
       "                        })                };                });            </script>        </div>"
      ]
     },
     "metadata": {},
     "output_type": "display_data"
    }
   ],
   "source": [
    "# Loại bỏ Kansas City khỏi danh sách\n",
    "city_crime_counts = city_crime_counts[city_crime_counts.index != 'KANSAS CITY']\n",
    "\n",
    "# Lọc dữ liệu \n",
    "top_09_cities_df = data[data['City'].isin(city_crime_counts.index)]\n",
    "\n",
    "# Nhóm dữ liệu theo ngày và thành phố, sau đó tính tổng số vụ phạm tội hàng ngày\n",
    "daily_crime_counts = top_09_cities_df.groupby(['Reported_Date', 'City']).size().reset_index(name='Total_Crimes')\n",
    "\n",
    "# Vẽ biểu đồ với Plotly\n",
    "fig = px.line(daily_crime_counts, x='Reported_Date', y='Total_Crimes', color='City', \n",
    "              title='Daily Crime Counts in Top 09 Cities (excluding Kansas City)',\n",
    "              labels={'Total_Crimes':'Total Crimes', 'Reported_Date':'Date'})\n",
    "\n",
    "# Hiển thị biểu đồ\n",
    "fig.show()"
   ]
  },
  {
   "cell_type": "markdown",
   "id": "7270e07c",
   "metadata": {},
   "source": [
    "- Sự khác biệt giữa các thành phố:\n",
    "    + KCMO (Kansas City, Missouri): Có sự biến động lớn trong số lượng vụ phạm tội, với một số ngày lên đến 9 vụ. Điều này cho thấy KCMO có số lượng vụ phạm tội nhiều và biến động hơn so với các thành phố khác.\n",
    "    + INDEPENDENCE: Cũng có nhiều biến động nhưng ở mức độ thấp hơn, với số lượng vụ phạm tội cao nhất khoảng 6 vụ trong một ngày.\n",
    "    + Các thành phố khác (GRANDVIEW, PARKVILLE, RAYTOWN, GLADSTONE, N KANSAS CITY, LEAWOOD, KEARNEY): Có số lượng vụ phạm tội thấp hơn nhiều so với KCMO và INDEPENDENCE. Hầu hết các ngày đều có số vụ phạm tội dưới 3, và có nhiều ngày không có vụ phạm tội nào.\n",
    "\n",
    "- Biến động hàng ngày:\n",
    "    + Mỗi thành phố có biến động về số lượng vụ phạm tội khác nhau. Tuy nhiên, các thành phố như KCMO và INDEPENDENCE cho thấy sự biến động rõ rệt hơn so với các thành phố khác.\n",
    "    + Số lượng vụ phạm tội tại các thành phố như PARKVILLE, GLADSTONE, và LEAWOOD thường không có sự biến động lớn, chỉ xuất hiện một số đỉnh nhỏ trong suốt năm.\n",
    "    \n",
    "- Xu hướng tổng quát:\n",
    "    + Không có xu hướng tăng hoặc giảm rõ ràng về số lượng vụ phạm tội qua các tháng trong năm 2016.\n",
    "    + Một số thành phố có sự gia tăng nhẹ vào giữa năm, nhưng không rõ rệt.\n",
    "\n",
    "- Các đỉnh cao và thấp:\n",
    "    + Các đỉnh cao về số lượng vụ phạm tội thường xuất hiện không đồng nhất và không tuân theo một mô hình nhất định theo mùa.\n",
    "    + KCMO có một số đỉnh cao đáng chú ý vào tháng 2, tháng 4, và tháng 9.\n",
    "\n",
    "- `Kết luận`:\n",
    "    + KCMO và INDEPENDENCE có số lượng vụ phạm tội cao hơn và biến động mạnh hơn so với các thành phố khác. \n",
    "    + Các thành phố như PARKVILLE, GLADSTONE, và LEAWOOD có số lượng vụ phạm tội thấp và ít biến động hơn. \n",
    "    + Điều này có thể phản ánh đặc điểm tội phạm riêng biệt của từng khu vực, và cung cấp thông tin hữu ích cho việc phân tích và triển khai các biện pháp phòng chống tội phạm tại các khu vực này."
   ]
  },
  {
   "cell_type": "code",
   "execution_count": null,
   "id": "cfe618f2",
   "metadata": {},
   "outputs": [],
   "source": []
  },
  {
   "cell_type": "code",
   "execution_count": null,
   "id": "c8de32fb",
   "metadata": {},
   "outputs": [],
   "source": []
  }
 ],
 "metadata": {
  "kernelspec": {
   "display_name": "Python 3 (ipykernel)",
   "language": "python",
   "name": "python3"
  },
  "language_info": {
   "codemirror_mode": {
    "name": "ipython",
    "version": 3
   },
   "file_extension": ".py",
   "mimetype": "text/x-python",
   "name": "python",
   "nbconvert_exporter": "python",
   "pygments_lexer": "ipython3",
   "version": "3.11.5"
  }
 },
 "nbformat": 4,
 "nbformat_minor": 5
}
